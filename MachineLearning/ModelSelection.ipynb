{
 "cells": [
  {
   "cell_type": "markdown",
   "id": "b1880734-4c43-462d-8e81-e98804e8345f",
   "metadata": {},
   "source": [
    "# Model Selection\n",
    "### by [Jason DeBacker](https://jasondebacker.com/), October 2021\n",
    "\n",
    "This notebook illustrates how to perform model selection methods in Python.\n",
    "\n",
    "*Model assessment* is the process of evaluating the performance of a particular model estimated on training data on its prediction accuracy on test data. There are many criteria for model assessment. The most common measure of model accuracy on test data is the mean squared error $MSE$ or root mean squared error $rMSE$. However, we have seen that the measure $MSE$ varies depending on which cross validation method is used.\n",
    "\n",
    "*Model selection* is the process of selection the proper level of flexbility in a model. More flexibility provides a better fit of the model to the training data, but can result in worse performance on test data (i.e., overfitting). That is, they define model selection as a process of tuning a particular family or class of models to maximize accuracy on test set prediction. So model selection involves model assessment. However, one can expand this definition of model selection to include testing multiple families or classes of model in terms of accuracy--a horse race.\n",
    "\n",
    "## 1. Set up\n",
    "\n",
    "First, we import packages and modules we'll use. Then we read in and clean our data."
   ]
  },
  {
   "cell_type": "code",
   "execution_count": 14,
   "id": "a6c6afca-4e39-4743-9062-5d9e871f8f11",
   "metadata": {},
   "outputs": [],
   "source": [
    "# Imports\n",
    "import numpy as np\n",
    "import pandas as pd\n",
    "import os\n",
    "from time import time\n",
    "import sklearn\n",
    "import sklearn.feature_selection\n",
    "from sklearn.metrics import mean_squared_error\n",
    "from sklearn.model_selection import RepeatedKFold\n",
    "import matplotlib.pyplot as plt"
   ]
  },
  {
   "cell_type": "code",
   "execution_count": 2,
   "id": "9b4eda8c-b65b-418a-80d8-2360746b8298",
   "metadata": {},
   "outputs": [
    {
     "name": "stderr",
     "output_type": "stream",
     "text": [
      "/Users/jason.debacker/anaconda3/lib/python3.7/site-packages/pandas/core/arraylike.py:364: RuntimeWarning: invalid value encountered in log\n",
      "  result = getattr(ufunc, method)(*inputs, **kwargs)\n"
     ]
    }
   ],
   "source": [
    "# Read in data and create variables\n",
    "data_path = os.path.join('..', 'Optimization', 'PS4_data.dta')\n",
    "psid = pd.read_stata(data_path)\n",
    "\n",
    "# create wages and ln(wages)\n",
    "# note need to be careful with wages = 0\n",
    "psid['wage'] = psid['hlabinc']/psid['hannhrs']\n",
    "psid['ln_wage'] = np.log(psid['wage'])\n",
    "\n",
    "# create age squared\n",
    "psid['age_sq'] = psid['age'] ** 2\n",
    "\n",
    "# sample selection\n",
    "psid.drop(psid[psid.hsex != 1].index, inplace=True)\n",
    "psid.drop(psid[psid.age > 60].index, inplace=True)\n",
    "psid.drop(psid[psid.age < 25].index, inplace=True)\n",
    "psid.drop(psid[psid.wage < 7].index, inplace=True)\n",
    "psid.drop(psid[psid.wage == np.inf].index, inplace=True)\n",
    "\n",
    "# create dummy variables for race\n",
    "psid['black'] = (psid['hrace'] == 2).astype(int)\n",
    "psid['hispanic'] = (psid['hrace'] == 5).astype(int)\n",
    "psid['other'] = (\n",
    "    (psid['hrace'] == 3) | (psid['hrace'] == 4) |\n",
    "    (psid['hrace'] == 6) | (psid['hrace'] == 7)).astype(int)\n",
    "\n",
    "# drop obs if missing values for any variabls in regression model\n",
    "psid.dropna(axis=0,\n",
    "            subset=['ln_wage', 'hyrsed', 'age', 'age_sq', 'black', 'other'],\n",
    "            inplace=True)\n",
    "\n",
    "# add a constant\n",
    "psid['const'] = 1\n",
    "\n",
    "# keep just year 2000 so can compare to results from PS #4\n",
    "psid = psid[psid.year==2000]"
   ]
  },
  {
   "cell_type": "markdown",
   "id": "948371b5-6932-48a0-a72b-3ae3b3809157",
   "metadata": {},
   "source": [
    "## 2. Feature Selection\n",
    "\n",
    "We'll now use forward and reverse step-wise selection methods to find the best fitting linear model of log wages."
   ]
  },
  {
   "cell_type": "code",
   "execution_count": 4,
   "id": "85665db8-86bd-493f-b3e6-315657b8475f",
   "metadata": {},
   "outputs": [
    {
     "name": "stdout",
     "output_type": "stream",
     "text": [
      "Features selected by forward sequential selection: ['redtotass' 'redpregovinc' 'hyrsed']\n",
      "Done in 0.260s\n",
      "Features selected by backward sequential selection: ['redtotass' 'redpregovinc' 'hyrsed']\n",
      "Done in 0.391s\n"
     ]
    }
   ],
   "source": [
    "# put our feature names in a list -- useful for labels later\n",
    "feature_list = [\n",
    "       'nochild', 'foodstamps', 'foodexp', 'foodcon',\n",
    "       'redfinass', 'redtotass', 'redpregovinc',\n",
    "       'hyrsed', 'age', 'age_sq', 'black', 'other'\n",
    "    ]\n",
    "# Need to put covariate names in an array for access later\n",
    "feature_names = np.array(feature_list)\n",
    "psid.dropna(axis=0,\n",
    "            subset=feature_list,\n",
    "            inplace=True)\n",
    "\n",
    "# Separate covariates and outcome variables\n",
    "X = psid[feature_list]\n",
    "y = psid['ln_wage']\n",
    "\n",
    "# instantiate an estimator to use (could be lasso, ridge, here OLS)\n",
    "regr = sklearn.linear_model.LinearRegression()\n",
    "\n",
    "# Forward sequential selection\n",
    "tic_fwd = time()\n",
    "sfs_forward = sklearn.feature_selection.SequentialFeatureSelector(\n",
    "    regr,  # model\n",
    "    n_features_to_select=3,  # number of features in model\n",
    "    direction='forward',\n",
    "    n_jobs=8  # number of processes to parallelize over\n",
    "    ).fit(X, y)\n",
    "toc_fwd = time()\n",
    "\n",
    "# Backward sequential selection\n",
    "tic_bwd = time()\n",
    "sfs_backward = sklearn.feature_selection.SequentialFeatureSelector(\n",
    "    regr,  # model\n",
    "    n_features_to_select=3,  # number of features in model\n",
    "    direction='backward',\n",
    "    n_jobs=1  # number of processes to parallelize over\n",
    "    ).fit(X, y)\n",
    "toc_bwd = time()\n",
    "print(\"Features selected by forward sequential selection: \"\n",
    "      f\"{feature_names[sfs_forward.get_support()]}\")\n",
    "print(f\"Done in {toc_fwd - tic_fwd:.3f}s\")\n",
    "print(\"Features selected by backward sequential selection: \"\n",
    "      f\"{feature_names[sfs_backward.get_support()]}\")\n",
    "print(f\"Done in {toc_bwd - tic_bwd:.3f}s\")"
   ]
  },
  {
   "cell_type": "code",
   "execution_count": 11,
   "id": "33266dcf-aaa8-4ff4-981e-7da2aecf365a",
   "metadata": {},
   "outputs": [
    {
     "name": "stdout",
     "output_type": "stream",
     "text": [
      "MSE of the forward selection =  0.15759611\n"
     ]
    }
   ],
   "source": [
    "# Print MSE of the model\n",
    "fitted_model = regr.fit(X[feature_names[sfs_backward.get_support()]], y)\n",
    "print('MSE of the forward selection = ', mean_squared_error(y, fitted_model.predict(X[feature_names[sfs_backward.get_support()]])))"
   ]
  },
  {
   "cell_type": "markdown",
   "id": "984059da-cd8a-46de-9c79-63daa95d8acd",
   "metadata": {},
   "source": [
    "`scikit-learn` also allows for other methods of recursive stepwise selection that allow for some additional flexibility.  One of these is `RFECV`, which is \"recursive feature elimination with cross-valiation\" (not illustrated below, but you can pass this function custom objective functions to evaluate the importance of features in the model -- e.g., use an t-stat instread of changes in MSE to evaluate covariates to drop)."
   ]
  },
  {
   "cell_type": "code",
   "execution_count": 12,
   "id": "b70b43b2-0b29-411a-9beb-3378f65ffc81",
   "metadata": {},
   "outputs": [
    {
     "data": {
      "text/plain": [
       "array([ True,  True,  True,  True, False,  True,  True,  True,  True,\n",
       "        True,  True,  True])"
      ]
     },
     "execution_count": 12,
     "metadata": {},
     "output_type": "execute_result"
    }
   ],
   "source": [
    "min_features_to_select = 1  # Minimum number of features to consider\n",
    "regr = sklearn.linear_model.LinearRegression()  # Model to use\n",
    "selector = sklearn.feature_selection.RFECV(\n",
    "    regr,  # estimator to use\n",
    "    step=1,  #number of features to remove at each step\n",
    "    cv=5,  # use 5-fold cross validation\n",
    "    min_features_to_select=min_features_to_select\n",
    ")\n",
    "selector = selector.fit(X, y)\n",
    "selector.support_\n",
    "# selector.ranking_"
   ]
  },
  {
   "cell_type": "code",
   "execution_count": 15,
   "id": "24fbd5f7-4481-4fef-a22c-b4f22582d271",
   "metadata": {},
   "outputs": [
    {
     "name": "stdout",
     "output_type": "stream",
     "text": [
      "Optimal number of features : 11\n"
     ]
    },
    {
     "data": {
      "image/png": "[encoded data removed]",
      "text/plain": [
       "<Figure size 432x288 with 1 Axes>"
      ]
     },
     "metadata": {
      "needs_background": "light"
     },
     "output_type": "display_data"
    }
   ],
   "source": [
    "print(\"Optimal number of features : %d\" % selector.n_features_)\n",
    "\n",
    "# Plot number of features VS. cross-validation scores\n",
    "plt.figure()\n",
    "plt.xlabel(\"Number of features selected\")\n",
    "plt.ylabel(\"Cross validation score (accuracy)\")\n",
    "plt.plot(range(min_features_to_select,\n",
    "               len(selector.grid_scores_) + min_features_to_select),\n",
    "         selector.grid_scores_)\n",
    "plt.show()"
   ]
  },
  {
   "cell_type": "code",
   "execution_count": 89,
   "id": "5fd6d4a5-a970-4895-8a02-f4af32295add",
   "metadata": {},
   "outputs": [
    {
     "data": {
      "text/plain": [
       "0.1510405691501279"
      ]
     },
     "execution_count": 89,
     "metadata": {},
     "output_type": "execute_result"
    }
   ],
   "source": [
    "mean_squared_error(y, selector.predict(X))"
   ]
  },
  {
   "cell_type": "markdown",
   "id": "3d813211-b82a-4242-b573-ccd0dc6fe934",
   "metadata": {},
   "source": [
    "## 3. MARS algorithm \n",
    "\n",
    "The [MARS algorithm](https://en.wikipedia.org/wiki/Multivariate_adaptive_regression_spline) finds the right basis functions and variables to include.\n",
    "\n",
    "MARS is copyrighted, so open source software will call this same algorithm something different -- typically \"Earth\".  Here, we'll implement the MARS algorithm on our data using Python.  To do this, we'll need to install a new package, [`py-earth`](https://contrib.scikit-learn.org/py-earth/content.html#).  You can do this via:\n",
    "\n",
    "```\n",
    "pip install sklearn-contrib-py-earth\n",
    "```\n",
    "\n",
    "or\n",
    "\n",
    "```\n",
    "conda install -c conda-forge sklearn-contrib-py-earth\n",
    "```\n",
    "\n",
    "## NOTE: I've not been able to install from either source, so I will not show this in class.  It may work for you, though.\n"
   ]
  },
  {
   "cell_type": "code",
   "execution_count": null,
   "id": "3ecca794-7c24-4577-a686-adb39b445cf5",
   "metadata": {},
   "outputs": [],
   "source": [
    "# check pyearth version\n",
    "import pyearth\n",
    "# display version\n",
    "print(pyearth.__version__)"
   ]
  },
  {
   "cell_type": "code",
   "execution_count": null,
   "id": "957db129-3314-4e4d-919e-7bed881cbf74",
   "metadata": {},
   "outputs": [],
   "source": [
    "# define the model\n",
    "model = Earth()\n",
    "\n",
    "# fit the model on training dataset\n",
    "model.fit(X, y)\n",
    "\n",
    "# make a prediction\n",
    "yhat = model.predict(Xnew)"
   ]
  },
  {
   "cell_type": "code",
   "execution_count": null,
   "id": "eb2284c2-489d-42f0-ad02-7e232fd3b23f",
   "metadata": {},
   "outputs": [],
   "source": [
    "# print a summary of the fit model\n",
    "print(model.summary())"
   ]
  },
  {
   "cell_type": "code",
   "execution_count": null,
   "id": "8dfadf4c-77f2-42f2-a2df-218f3ac31760",
   "metadata": {},
   "outputs": [],
   "source": [
    "# Do some CV of the model...\n",
    "# define the model\n",
    "model = Earth()\n",
    "# define the evaluation procedure\n",
    "cv = RepeatedKFold(n_splits=10, n_repeats=3, random_state=1)\n",
    "# evaluate the model and collect results\n",
    "n_scores = cross_val_score(model, X, y, scoring='neg_mean_absolute_error', cv=cv, n_jobs=-1)\n",
    "# report performance\n",
    "print('MAE: %.3f (%.3f)' % (np.mean(n_scores), np.std(n_scores)))"
   ]
  }
 ],
 "metadata": {
  "kernelspec": {
   "display_name": "Python 3 (ipykernel)",
   "language": "python",
   "name": "python3"
  },
  "language_info": {
   "codemirror_mode": {
    "name": "ipython",
    "version": 3
   },
   "file_extension": ".py",
   "mimetype": "text/x-python",
   "name": "python",
   "nbconvert_exporter": "python",
   "pygments_lexer": "ipython3",
   "version": "3.7.7"
  }
 },
 "nbformat": 4,
 "nbformat_minor": 5
}
