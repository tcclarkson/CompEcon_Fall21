{
 "cells": [
  {
   "cell_type": "markdown",
   "id": "eb4ebb83",
   "metadata": {},
   "source": [
    "# Problem Set 2"
   ]
  },
  {
   "cell_type": "markdown",
   "id": "91edc2f5",
   "metadata": {},
   "source": [
    "### 1.1"
   ]
  },
  {
   "cell_type": "code",
   "execution_count": 2,
   "id": "e190ace6",
   "metadata": {},
   "outputs": [],
   "source": [
    "# Creating a list\n",
    "p1_list = [4, 26, 93]"
   ]
  },
  {
   "cell_type": "code",
   "execution_count": 7,
   "id": "c8374522",
   "metadata": {},
   "outputs": [
    {
     "name": "stdout",
     "output_type": "stream",
     "text": [
      "4 93 41.0\n"
     ]
    }
   ],
   "source": [
    "# Printing Min, Max, and Avg.\n",
    "print(min(p1_list), max(p1_list), sum(p1_list) / 3)"
   ]
  },
  {
   "cell_type": "markdown",
   "id": "eb33cb93",
   "metadata": {},
   "source": [
    "### 1.2"
   ]
  },
  {
   "cell_type": "code",
   "execution_count": 16,
   "id": "363bc0e7",
   "metadata": {},
   "outputs": [
    {
     "data": {
      "text/plain": [
       "False"
      ]
     },
     "execution_count": 16,
     "metadata": {},
     "output_type": "execute_result"
    }
   ],
   "source": [
    "# Integer - Immutable\n",
    "int_1 = 42\n",
    "int_2 = int_1\n",
    "int_2 = 83\n",
    "int_2 == int_1"
   ]
  },
  {
   "cell_type": "code",
   "execution_count": 17,
   "id": "113cf01d",
   "metadata": {},
   "outputs": [
    {
     "data": {
      "text/plain": [
       "False"
      ]
     },
     "execution_count": 17,
     "metadata": {},
     "output_type": "execute_result"
    }
   ],
   "source": [
    "# String - Immutable\n",
    "str_1 = 'Campbell'\n",
    "str_2 = str_1\n",
    "str_2 = 'Not Me'\n",
    "str_2 == str_1"
   ]
  },
  {
   "cell_type": "code",
   "execution_count": 18,
   "id": "7920ff6a",
   "metadata": {},
   "outputs": [
    {
     "data": {
      "text/plain": [
       "True"
      ]
     },
     "execution_count": 18,
     "metadata": {},
     "output_type": "execute_result"
    }
   ],
   "source": [
    "# List - Mutable\n",
    "list_1 = ['Me', 'You', 'Her', 'Him']\n",
    "list_2 = list_1\n",
    "list_2[1] = 'Them'\n",
    "list_1 == list_2"
   ]
  },
  {
   "cell_type": "code",
   "execution_count": 22,
   "id": "53cc5523",
   "metadata": {},
   "outputs": [
    {
     "data": {
      "text/plain": [
       "False"
      ]
     },
     "execution_count": 22,
     "metadata": {},
     "output_type": "execute_result"
    }
   ],
   "source": [
    "# Tuple - Immutable\n",
    "tuple_1 = ('Win', 'Lose', 'Draw')\n",
    "tuple_2 = tuple_1\n",
    "tuple_2 += (1,)\n",
    "tuple_1 == tuple_2"
   ]
  },
  {
   "cell_type": "code",
   "execution_count": 30,
   "id": "b2872ade",
   "metadata": {},
   "outputs": [
    {
     "data": {
      "text/plain": [
       "True"
      ]
     },
     "execution_count": 30,
     "metadata": {},
     "output_type": "execute_result"
    }
   ],
   "source": [
    "# Set - Mutable\n",
    "set_1 = {'Win', 'Lose', 'Draw'}\n",
    "set_2 = set_1\n",
    "set_2.add('Forfeit')\n",
    "set_1 == set_2"
   ]
  },
  {
   "cell_type": "code",
   "execution_count": 43,
   "id": "8bacdcc3",
   "metadata": {},
   "outputs": [
    {
     "name": "stdout",
     "output_type": "stream",
     "text": [
      "It is clear that if the experiment for the object is true, it is mutable. From that observation,\n",
      "    we can see that lists and sets are mutable objects.\n",
      "\n",
      "    The immutable objects show false, and are integers, strings, and tuples.\n"
     ]
    }
   ],
   "source": [
    "print(\n",
    "    '''It is clear that if the experiment for the object is true, it is mutable. From that observation,\n",
    "    we can see that lists and sets are mutable objects.\n",
    "\n",
    "    The immutable objects show false, and are integers, strings, and tuples.''')"
   ]
  },
  {
   "cell_type": "markdown",
   "id": "32e07f0e",
   "metadata": {},
   "source": [
    "### 1.3"
   ]
  },
  {
   "cell_type": "code",
   "execution_count": 31,
   "id": "ed33d7a5",
   "metadata": {},
   "outputs": [
    {
     "name": "stdout",
     "output_type": "stream",
     "text": [
      "Sum of 2 and 6: 8\n",
      "Square Root of 4: 2\n",
      "7\n"
     ]
    }
   ],
   "source": [
    "run calculator.py"
   ]
  },
  {
   "cell_type": "code",
   "execution_count": 33,
   "id": "32db9ac0",
   "metadata": {},
   "outputs": [
    {
     "data": {
      "text/plain": [
       "10"
      ]
     },
     "execution_count": 33,
     "metadata": {},
     "output_type": "execute_result"
    }
   ],
   "source": [
    "sum_arg(2, 8)"
   ]
  },
  {
   "cell_type": "code",
   "execution_count": 34,
   "id": "5cf3ba70",
   "metadata": {},
   "outputs": [
    {
     "data": {
      "text/plain": [
       "20"
      ]
     },
     "execution_count": 34,
     "metadata": {},
     "output_type": "execute_result"
    }
   ],
   "source": [
    "product_arg(10, 2)"
   ]
  },
  {
   "cell_type": "code",
   "execution_count": 35,
   "id": "981b3385",
   "metadata": {},
   "outputs": [
    {
     "data": {
      "text/plain": [
       "10.0"
      ]
     },
     "execution_count": 35,
     "metadata": {},
     "output_type": "execute_result"
    }
   ],
   "source": [
    "hypotenuse(6, 8)"
   ]
  },
  {
   "cell_type": "markdown",
   "id": "f675dba3",
   "metadata": {},
   "source": [
    "### 2.1"
   ]
  },
  {
   "cell_type": "code",
   "execution_count": 172,
   "id": "56a94997",
   "metadata": {},
   "outputs": [
    {
     "data": {
      "text/plain": [
       "array([[ 37,  14, -32, -10],\n",
       "       [-54,  -7,  58,  65]])"
      ]
     },
     "execution_count": 172,
     "metadata": {},
     "output_type": "execute_result"
    }
   ],
   "source": [
    "# Creating Arrays A and B and dot product A.B\n",
    "import numpy as np\n",
    "\n",
    "A = np.array([ [3, -1, 4], [1, 5, -9] ] )\n",
    "B = np.array([ [2, 6, -5, 3], [5, -8, 9, 7], [9, -3, -2, -3] ])\n",
    "\n",
    "np.dot(A, B)"
   ]
  },
  {
   "cell_type": "markdown",
   "id": "ab593623",
   "metadata": {},
   "source": [
    "### 2.2"
   ]
  },
  {
   "cell_type": "code",
   "execution_count": 173,
   "id": "f10bafbc",
   "metadata": {},
   "outputs": [
    {
     "data": {
      "text/plain": [
       "array([[   9,   -7,   20],\n",
       "       [  -7,   25, -135],\n",
       "       [ 425,    9,   -7]])"
      ]
     },
     "execution_count": 173,
     "metadata": {},
     "output_type": "execute_result"
    }
   ],
   "source": [
    "A = np.array([ [3, 1, 4], [1, 5, 9], [-5, 3, 1] ])\n",
    "\n",
    "np.array((-1 * A ** 3) + (9 * A ** 2) - (15 * A) )"
   ]
  },
  {
   "cell_type": "markdown",
   "id": "4cfb41ed",
   "metadata": {},
   "source": [
    "### 2.5"
   ]
  },
  {
   "cell_type": "code",
   "execution_count": 178,
   "id": "64098c4e",
   "metadata": {},
   "outputs": [
    {
     "data": {
      "text/plain": [
       "array([[ 0.,  0.,  0.,  0.,  1.,  1.,  0.,  0.],\n",
       "       [ 0.,  0.,  0.,  2.,  3.,  0.,  1.,  0.],\n",
       "       [ 0.,  0.,  0.,  4.,  5.,  0.,  0.,  1.],\n",
       "       [ 0.,  2.,  4.,  0.,  0.,  0.,  0.,  0.],\n",
       "       [ 1.,  3.,  5.,  0.,  0.,  0.,  0.,  0.],\n",
       "       [ 3.,  0.,  0.,  0.,  0., -2.,  0.,  0.],\n",
       "       [ 3.,  3.,  0.,  0.,  0.,  0., -2.,  0.],\n",
       "       [ 3.,  3.,  3.,  0.,  0.,  0.,  0., -2.]])"
      ]
     },
     "execution_count": 178,
     "metadata": {},
     "output_type": "execute_result"
    }
   ],
   "source": [
    "A = np.array( [ [0, 2, 4], [1, 3, 5] ] )\n",
    "B = np.array( [ [3, 0, 0], [3, 3, 0], [3, 3, 3] ] )\n",
    "C = np.array( [ [-2, 0, 0], [0, -2, 0], [0, 0, -2] ] )\n",
    "Z = np.zeros( (3,3) )\n",
    "Z_2 = np.zeros( (2,2) )\n",
    "Z_3 = np.zeros( (3,2) )\n",
    "Z_4 = np.zeros( (2,3) )\n",
    "I = np.identity(3)\n",
    "AT = A.transpose()\n",
    "\n",
    "top = np.vstack( (Z, A, B) )\n",
    "middle = np.vstack( (AT, Z_2, Z_3) )\n",
    "bottom = np.vstack( (I, Z_4, C) )\n",
    "np.column_stack( (top, middle, bottom) )"
   ]
  },
  {
   "cell_type": "code",
   "execution_count": null,
   "id": "6e723979",
   "metadata": {},
   "outputs": [],
   "source": []
  },
  {
   "cell_type": "markdown",
   "id": "25d5ccce",
   "metadata": {},
   "source": [
    "### 3.1"
   ]
  },
  {
   "cell_type": "code",
   "execution_count": 126,
   "id": "79bf4bf6",
   "metadata": {},
   "outputs": [],
   "source": [
    "class Backpack:\n",
    "    '''\n",
    "    This is a backpack class. Enter the owner name, the color of the bag, and the maximum number of items it can hold.\n",
    "    Then, you can use put() to add items, take() to remove them, and dump() to empty the backpack\n",
    "    '''\n",
    "    def __init__(self, name, color, max_size = 5):\n",
    "        self.name = name\n",
    "        self.color = color\n",
    "        self.contents = []\n",
    "        self.max_size = max_size\n",
    "    def put(self, item):\n",
    "        if len(self.contents) > 4: # Not sure how to get the No more room statement\n",
    "            print(\"No more Room!\")\n",
    "        else:\n",
    "            self.contents.append(item)\n",
    "    def take(self, item):\n",
    "        self.contents.remove(item)\n",
    "    def dump(self):\n",
    "        self.contents.clear()"
   ]
  },
  {
   "cell_type": "code",
   "execution_count": 127,
   "id": "d22fd1c6",
   "metadata": {},
   "outputs": [],
   "source": [
    "my_pack = Backpack(\"Campbell\", \"Red\")"
   ]
  },
  {
   "cell_type": "code",
   "execution_count": 128,
   "id": "306a4195",
   "metadata": {},
   "outputs": [],
   "source": [
    "my_pack.put(\"Pencil\")\n",
    "my_pack.put(\"Eraser\")\n",
    "my_pack.put(\"Paper\")\n",
    "my_pack.put(\"Book\")"
   ]
  },
  {
   "cell_type": "code",
   "execution_count": 129,
   "id": "fbe68a5e",
   "metadata": {},
   "outputs": [
    {
     "data": {
      "text/plain": [
       "['Pencil', 'Eraser', 'Paper', 'Book']"
      ]
     },
     "execution_count": 129,
     "metadata": {},
     "output_type": "execute_result"
    }
   ],
   "source": [
    "my_pack.contents"
   ]
  },
  {
   "cell_type": "code",
   "execution_count": 130,
   "id": "9e3ffb9a",
   "metadata": {},
   "outputs": [],
   "source": [
    "my_pack.put(\"Calculator\")"
   ]
  },
  {
   "cell_type": "code",
   "execution_count": 131,
   "id": "5beffea1",
   "metadata": {},
   "outputs": [
    {
     "name": "stdout",
     "output_type": "stream",
     "text": [
      "No more Room!\n"
     ]
    }
   ],
   "source": [
    "my_pack.put(\"Binder\")"
   ]
  },
  {
   "cell_type": "code",
   "execution_count": 132,
   "id": "b4c96624",
   "metadata": {},
   "outputs": [
    {
     "data": {
      "text/plain": [
       "['Pencil', 'Eraser', 'Paper', 'Book', 'Calculator']"
      ]
     },
     "execution_count": 132,
     "metadata": {},
     "output_type": "execute_result"
    }
   ],
   "source": [
    "my_pack.contents"
   ]
  },
  {
   "cell_type": "code",
   "execution_count": 133,
   "id": "f0cff9af",
   "metadata": {},
   "outputs": [],
   "source": [
    "my_pack.dump()"
   ]
  },
  {
   "cell_type": "code",
   "execution_count": 134,
   "id": "2dfcdf60",
   "metadata": {},
   "outputs": [
    {
     "name": "stdout",
     "output_type": "stream",
     "text": [
      "Campbell Red\n"
     ]
    }
   ],
   "source": [
    "print(my_pack.name, my_pack.color)"
   ]
  },
  {
   "cell_type": "code",
   "execution_count": 135,
   "id": "aa53caae",
   "metadata": {},
   "outputs": [],
   "source": [
    "my_pack.put(\"Pencil\")\n",
    "my_pack.put(\"Eraser\")\n",
    "my_pack.put(\"Paper\")\n",
    "my_pack.put(\"Book\")\n",
    "my_pack.put(\"Calculator\")"
   ]
  },
  {
   "cell_type": "code",
   "execution_count": 136,
   "id": "ec6ad0d8",
   "metadata": {},
   "outputs": [
    {
     "name": "stdout",
     "output_type": "stream",
     "text": [
      "Campbell Red ['Pencil', 'Eraser', 'Paper', 'Book', 'Calculator']\n"
     ]
    }
   ],
   "source": [
    "print(my_pack.name, my_pack.color, my_pack.contents)"
   ]
  },
  {
   "cell_type": "markdown",
   "id": "49fd9759",
   "metadata": {},
   "source": [
    "### 3.2"
   ]
  },
  {
   "cell_type": "code",
   "execution_count": 159,
   "id": "bbed2068",
   "metadata": {},
   "outputs": [],
   "source": [
    "class Jetpack(Backpack):\n",
    "    def __init__(self, name, color, max_size = 2, fuel = 10):\n",
    "        self.fuel = fuel\n",
    "        self.contents = []\n",
    "        self.name = name\n",
    "        self.color = color\n",
    "        self.max_size = max_size\n",
    "    def fly(self, fuel):\n",
    "        if self.fuel < fuel:\n",
    "            print(\"Not enough fuel!\")\n",
    "        else:\n",
    "            self.fuel = self.fuel - fuel\n",
    "    def dump(self):\n",
    "        self.contents.clear()\n",
    "        self.fuel = self.fuel - self.fuel\n",
    "    def put(self, item):\n",
    "        if len(self.contents) > 1:\n",
    "            print(\"No more Room!\")\n",
    "        else:\n",
    "            self.contents.append(item)"
   ]
  },
  {
   "cell_type": "code",
   "execution_count": 160,
   "id": "1a309d24",
   "metadata": {},
   "outputs": [],
   "source": [
    "my_jetpack = Jetpack('Campbell', 'Orange')"
   ]
  },
  {
   "cell_type": "code",
   "execution_count": 161,
   "id": "1d0a557e",
   "metadata": {},
   "outputs": [],
   "source": [
    "my_jetpack.fly(4)"
   ]
  },
  {
   "cell_type": "code",
   "execution_count": 162,
   "id": "49d54eac",
   "metadata": {},
   "outputs": [
    {
     "data": {
      "text/plain": [
       "6"
      ]
     },
     "execution_count": 162,
     "metadata": {},
     "output_type": "execute_result"
    }
   ],
   "source": [
    "my_jetpack.fuel"
   ]
  },
  {
   "cell_type": "code",
   "execution_count": 163,
   "id": "b120fcb8",
   "metadata": {},
   "outputs": [
    {
     "name": "stdout",
     "output_type": "stream",
     "text": [
      "Not enough fuel!\n"
     ]
    }
   ],
   "source": [
    "my_jetpack.fly(9)"
   ]
  },
  {
   "cell_type": "code",
   "execution_count": 164,
   "id": "d3f18acb",
   "metadata": {},
   "outputs": [],
   "source": [
    "my_jetpack.put(\"Oxygen Tank\")"
   ]
  },
  {
   "cell_type": "code",
   "execution_count": 165,
   "id": "ef783c95",
   "metadata": {},
   "outputs": [
    {
     "data": {
      "text/plain": [
       "['Oxygen Tank']"
      ]
     },
     "execution_count": 165,
     "metadata": {},
     "output_type": "execute_result"
    }
   ],
   "source": [
    "my_jetpack.contents"
   ]
  },
  {
   "cell_type": "code",
   "execution_count": 166,
   "id": "702ffd72",
   "metadata": {},
   "outputs": [],
   "source": [
    "my_jetpack.put(\"a\")"
   ]
  },
  {
   "cell_type": "code",
   "execution_count": 167,
   "id": "8b6ab1f6",
   "metadata": {},
   "outputs": [
    {
     "name": "stdout",
     "output_type": "stream",
     "text": [
      "No more Room!\n"
     ]
    }
   ],
   "source": [
    "my_jetpack.put(\"b\")"
   ]
  },
  {
   "cell_type": "code",
   "execution_count": 168,
   "id": "bcba439f",
   "metadata": {},
   "outputs": [],
   "source": [
    "my_jetpack.dump()"
   ]
  },
  {
   "cell_type": "code",
   "execution_count": 169,
   "id": "a269faed",
   "metadata": {},
   "outputs": [
    {
     "data": {
      "text/plain": [
       "0"
      ]
     },
     "execution_count": 169,
     "metadata": {},
     "output_type": "execute_result"
    }
   ],
   "source": [
    "my_jetpack.fuel"
   ]
  },
  {
   "cell_type": "code",
   "execution_count": 170,
   "id": "3032b85c",
   "metadata": {},
   "outputs": [
    {
     "data": {
      "text/plain": [
       "[]"
      ]
     },
     "execution_count": 170,
     "metadata": {},
     "output_type": "execute_result"
    }
   ],
   "source": [
    "my_jetpack.contents"
   ]
  },
  {
   "cell_type": "code",
   "execution_count": null,
   "id": "e8694bfd",
   "metadata": {},
   "outputs": [],
   "source": []
  }
 ],
 "metadata": {
  "kernelspec": {
   "display_name": "Python 3",
   "language": "python",
   "name": "python3"
  },
  "language_info": {
   "codemirror_mode": {
    "name": "ipython",
    "version": 3
   },
   "file_extension": ".py",
   "mimetype": "text/x-python",
   "name": "python",
   "nbconvert_exporter": "python",
   "pygments_lexer": "ipython3",
   "version": "3.8.8"
  }
 },
 "nbformat": 4,
 "nbformat_minor": 5
}
