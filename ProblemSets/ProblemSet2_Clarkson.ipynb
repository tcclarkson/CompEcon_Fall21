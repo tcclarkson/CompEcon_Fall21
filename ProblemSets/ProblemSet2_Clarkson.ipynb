{
 "cells": [
  {
   "cell_type": "markdown",
   "id": "eb4ebb83",
   "metadata": {},
   "source": [
    "# Problem Set 2"
   ]
  },
  {
   "cell_type": "markdown",
   "id": "91edc2f5",
   "metadata": {},
   "source": [
    "### 1.1"
   ]
  },
  {
   "cell_type": "code",
   "execution_count": 2,
   "id": "e190ace6",
   "metadata": {},
   "outputs": [],
   "source": [
    "# Creating a list\n",
    "p1_list = [4, 26, 93]"
   ]
  },
  {
   "cell_type": "code",
   "execution_count": 7,
   "id": "c8374522",
   "metadata": {},
   "outputs": [
    {
     "name": "stdout",
     "output_type": "stream",
     "text": [
      "4 93 41.0\n"
     ]
    }
   ],
   "source": [
    "# Printing Min, Max, and Avg.\n",
    "print(min(p1_list), max(p1_list), sum(p1_list) / 3)"
   ]
  },
  {
   "cell_type": "markdown",
   "id": "eb33cb93",
   "metadata": {},
   "source": [
    "### 1.2"
   ]
  },
  {
   "cell_type": "code",
   "execution_count": 16,
   "id": "363bc0e7",
   "metadata": {},
   "outputs": [
    {
     "data": {
      "text/plain": [
       "False"
      ]
     },
     "execution_count": 16,
     "metadata": {},
     "output_type": "execute_result"
    }
   ],
   "source": [
    "# Integer - Immutable\n",
    "int_1 = 42\n",
    "int_2 = int_1\n",
    "int_2 = 83\n",
    "int_2 == int_1"
   ]
  },
  {
   "cell_type": "code",
   "execution_count": 17,
   "id": "113cf01d",
   "metadata": {},
   "outputs": [
    {
     "data": {
      "text/plain": [
       "False"
      ]
     },
     "execution_count": 17,
     "metadata": {},
     "output_type": "execute_result"
    }
   ],
   "source": [
    "# String - Immutable\n",
    "str_1 = 'Campbell'\n",
    "str_2 = str_1\n",
    "str_2 = 'Not Me'\n",
    "str_2 == str_1"
   ]
  },
  {
   "cell_type": "code",
   "execution_count": 18,
   "id": "7920ff6a",
   "metadata": {},
   "outputs": [
    {
     "data": {
      "text/plain": [
       "True"
      ]
     },
     "execution_count": 18,
     "metadata": {},
     "output_type": "execute_result"
    }
   ],
   "source": [
    "# List - Mutable\n",
    "list_1 = ['Me', 'You', 'Her', 'Him']\n",
    "list_2 = list_1\n",
    "list_2[1] = 'Them'\n",
    "list_1 == list_2"
   ]
  },
  {
   "cell_type": "code",
   "execution_count": 22,
   "id": "53cc5523",
   "metadata": {},
   "outputs": [
    {
     "data": {
      "text/plain": [
       "False"
      ]
     },
     "execution_count": 22,
     "metadata": {},
     "output_type": "execute_result"
    }
   ],
   "source": [
    "# Tuple - Immutable\n",
    "tuple_1 = ('Win', 'Lose', 'Draw')\n",
    "tuple_2 = tuple_1\n",
    "tuple_2 += (1,)\n",
    "tuple_1 == tuple_2"
   ]
  },
  {
   "cell_type": "code",
   "execution_count": 30,
   "id": "b2872ade",
   "metadata": {},
   "outputs": [
    {
     "data": {
      "text/plain": [
       "True"
      ]
     },
     "execution_count": 30,
     "metadata": {},
     "output_type": "execute_result"
    }
   ],
   "source": [
    "# Set - Mutable\n",
    "set_1 = {'Win', 'Lose', 'Draw'}\n",
    "set_2 = set_1\n",
    "set_2.add('Forfeit')\n",
    "set_1 == set_2"
   ]
  },
  {
   "cell_type": "code",
   "execution_count": 43,
   "id": "8bacdcc3",
   "metadata": {},
   "outputs": [
    {
     "name": "stdout",
     "output_type": "stream",
     "text": [
      "It is clear that if the experiment for the object is true, it is mutable. From that observation,\n",
      "    we can see that lists and sets are mutable objects.\n",
      "\n",
      "    The immutable objects show false, and are integers, strings, and tuples.\n"
     ]
    }
   ],
   "source": [
    "print(\n",
    "    '''It is clear that if the experiment for the object is true, it is mutable. From that observation,\n",
    "    we can see that lists and sets are mutable objects.\n",
    "\n",
    "    The immutable objects show false, and are integers, strings, and tuples.''')"
   ]
  },
  {
   "cell_type": "markdown",
   "id": "32e07f0e",
   "metadata": {},
   "source": [
    "### 1.3"
   ]
  },
  {
   "cell_type": "code",
   "execution_count": 31,
   "id": "ed33d7a5",
   "metadata": {},
   "outputs": [
    {
     "name": "stdout",
     "output_type": "stream",
     "text": [
      "Sum of 2 and 6: 8\n",
      "Square Root of 4: 2\n",
      "7\n"
     ]
    }
   ],
   "source": [
    "run calculator.py"
   ]
  },
  {
   "cell_type": "code",
   "execution_count": 33,
   "id": "32db9ac0",
   "metadata": {},
   "outputs": [
    {
     "data": {
      "text/plain": [
       "10"
      ]
     },
     "execution_count": 33,
     "metadata": {},
     "output_type": "execute_result"
    }
   ],
   "source": [
    "sum_arg(2, 8)"
   ]
  },
  {
   "cell_type": "code",
   "execution_count": 34,
   "id": "5cf3ba70",
   "metadata": {},
   "outputs": [
    {
     "data": {
      "text/plain": [
       "20"
      ]
     },
     "execution_count": 34,
     "metadata": {},
     "output_type": "execute_result"
    }
   ],
   "source": [
    "product_arg(10, 2)"
   ]
  },
  {
   "cell_type": "code",
   "execution_count": 35,
   "id": "981b3385",
   "metadata": {},
   "outputs": [
    {
     "data": {
      "text/plain": [
       "10.0"
      ]
     },
     "execution_count": 35,
     "metadata": {},
     "output_type": "execute_result"
    }
   ],
   "source": [
    "hypotenuse(6, 8)"
   ]
  },
  {
   "cell_type": "markdown",
   "id": "f675dba3",
   "metadata": {},
   "source": [
    "### 2.1"
   ]
  },
  {
   "cell_type": "code",
   "execution_count": 48,
   "id": "56a94997",
   "metadata": {},
   "outputs": [
    {
     "data": {
      "text/plain": [
       "array([[ 37,  14, -32, -10],\n",
       "       [-54,  -7,  58,  65]])"
      ]
     },
     "execution_count": 48,
     "metadata": {},
     "output_type": "execute_result"
    }
   ],
   "source": [
    "# Creating Arrays A and B and dot product A.B\n",
    "import numpy as np\n",
    "\n",
    "A = np.array([ [3, -1, 4], [1, 5, -9] ] )\n",
    "B = np.array([ [2, 6, -5, 3], [5, -8, 9, 7], [9, -3, -2, -3] ])\n",
    "\n",
    "np.dot(A, B)"
   ]
  },
  {
   "cell_type": "markdown",
   "id": "ab593623",
   "metadata": {},
   "source": [
    "### 2.2"
   ]
  },
  {
   "cell_type": "code",
   "execution_count": 51,
   "id": "f10bafbc",
   "metadata": {},
   "outputs": [
    {
     "data": {
      "text/plain": [
       "array([[   9,   -7,   20],\n",
       "       [  -7,   25, -135],\n",
       "       [ 425,    9,   -7]])"
      ]
     },
     "execution_count": 51,
     "metadata": {},
     "output_type": "execute_result"
    }
   ],
   "source": [
    "A = np.array([ [3, 1, 4], [1, 5, 9], [-5, 3, 1] ])\n",
    "\n",
    "np.array((-1 * A ** 3) + (9 * A ** 2) - (15 * A) )"
   ]
  },
  {
   "cell_type": "markdown",
   "id": "4cfb41ed",
   "metadata": {},
   "source": [
    "### 2.5"
   ]
  },
  {
   "cell_type": "code",
   "execution_count": 76,
   "id": "64098c4e",
   "metadata": {},
   "outputs": [],
   "source": [
    "A = np.array( [ [0, 2, 4], [1, 3, 5] ] )\n",
    "B = np.array( [ [3, 0, 0], [3, 3, 0], [3, 3, 3] ] )\n",
    "C = np.array( [ [-2, 0, 0], [0, -2, 0], [0, 0, -2] ] )\n",
    "\n",
    "AT = A.transpose()\n",
    "\n",
    "zero = np.zeros((3))\n",
    "\n",
    "I = np.identity(3)"
   ]
  },
  {
   "cell_type": "code",
   "execution_count": 77,
   "id": "6e723979",
   "metadata": {},
   "outputs": [
    {
     "ename": "ValueError",
     "evalue": "all the input array dimensions for the concatenation axis must match exactly, but along dimension 0, the array at index 0 has size 3 and the array at index 3 has size 2",
     "output_type": "error",
     "traceback": [
      "\u001b[1;31m---------------------------------------------------------------------------\u001b[0m",
      "\u001b[1;31mValueError\u001b[0m                                Traceback (most recent call last)",
      "\u001b[1;32m<ipython-input-77-6302a5a550fe>\u001b[0m in \u001b[0;36m<module>\u001b[1;34m\u001b[0m\n\u001b[1;32m----> 1\u001b[1;33m \u001b[0mnp\u001b[0m\u001b[1;33m.\u001b[0m\u001b[0mcolumn_stack\u001b[0m\u001b[1;33m(\u001b[0m\u001b[1;33m(\u001b[0m\u001b[0mzero\u001b[0m\u001b[1;33m,\u001b[0m \u001b[0mA\u001b[0m\u001b[1;33m.\u001b[0m\u001b[0mT\u001b[0m\u001b[1;33m,\u001b[0m \u001b[0mI\u001b[0m\u001b[1;33m,\u001b[0m \u001b[0mA\u001b[0m\u001b[1;33m,\u001b[0m \u001b[0mzero\u001b[0m\u001b[1;33m,\u001b[0m \u001b[0mzero\u001b[0m\u001b[1;33m,\u001b[0m \u001b[0mB\u001b[0m\u001b[1;33m,\u001b[0m \u001b[0mzero\u001b[0m\u001b[1;33m,\u001b[0m \u001b[0mC\u001b[0m\u001b[1;33m)\u001b[0m\u001b[1;33m)\u001b[0m\u001b[1;33m\u001b[0m\u001b[1;33m\u001b[0m\u001b[0m\n\u001b[0m",
      "\u001b[1;32m<__array_function__ internals>\u001b[0m in \u001b[0;36mcolumn_stack\u001b[1;34m(*args, **kwargs)\u001b[0m\n",
      "\u001b[1;32m~\\anaconda3\\lib\\site-packages\\numpy\\lib\\shape_base.py\u001b[0m in \u001b[0;36mcolumn_stack\u001b[1;34m(tup)\u001b[0m\n\u001b[0;32m    654\u001b[0m             \u001b[0marr\u001b[0m \u001b[1;33m=\u001b[0m \u001b[0marray\u001b[0m\u001b[1;33m(\u001b[0m\u001b[0marr\u001b[0m\u001b[1;33m,\u001b[0m \u001b[0mcopy\u001b[0m\u001b[1;33m=\u001b[0m\u001b[1;32mFalse\u001b[0m\u001b[1;33m,\u001b[0m \u001b[0msubok\u001b[0m\u001b[1;33m=\u001b[0m\u001b[1;32mTrue\u001b[0m\u001b[1;33m,\u001b[0m \u001b[0mndmin\u001b[0m\u001b[1;33m=\u001b[0m\u001b[1;36m2\u001b[0m\u001b[1;33m)\u001b[0m\u001b[1;33m.\u001b[0m\u001b[0mT\u001b[0m\u001b[1;33m\u001b[0m\u001b[1;33m\u001b[0m\u001b[0m\n\u001b[0;32m    655\u001b[0m         \u001b[0marrays\u001b[0m\u001b[1;33m.\u001b[0m\u001b[0mappend\u001b[0m\u001b[1;33m(\u001b[0m\u001b[0marr\u001b[0m\u001b[1;33m)\u001b[0m\u001b[1;33m\u001b[0m\u001b[1;33m\u001b[0m\u001b[0m\n\u001b[1;32m--> 656\u001b[1;33m     \u001b[1;32mreturn\u001b[0m \u001b[0m_nx\u001b[0m\u001b[1;33m.\u001b[0m\u001b[0mconcatenate\u001b[0m\u001b[1;33m(\u001b[0m\u001b[0marrays\u001b[0m\u001b[1;33m,\u001b[0m \u001b[1;36m1\u001b[0m\u001b[1;33m)\u001b[0m\u001b[1;33m\u001b[0m\u001b[1;33m\u001b[0m\u001b[0m\n\u001b[0m\u001b[0;32m    657\u001b[0m \u001b[1;33m\u001b[0m\u001b[0m\n\u001b[0;32m    658\u001b[0m \u001b[1;33m\u001b[0m\u001b[0m\n",
      "\u001b[1;32m<__array_function__ internals>\u001b[0m in \u001b[0;36mconcatenate\u001b[1;34m(*args, **kwargs)\u001b[0m\n",
      "\u001b[1;31mValueError\u001b[0m: all the input array dimensions for the concatenation axis must match exactly, but along dimension 0, the array at index 0 has size 3 and the array at index 3 has size 2"
     ]
    }
   ],
   "source": [
    "np.column_stack((zero, A.T, I, A, zero, zero, B, zero, C))"
   ]
  },
  {
   "cell_type": "markdown",
   "id": "25d5ccce",
   "metadata": {},
   "source": [
    "### 3.1"
   ]
  },
  {
   "cell_type": "code",
   "execution_count": 94,
   "id": "79bf4bf6",
   "metadata": {},
   "outputs": [],
   "source": [
    "class Backpack:\n",
    "    def __init__(self, name, color, max_size = 5):\n",
    "        self.name = name\n",
    "        self.color = color\n",
    "        self.contents = []\n",
    "        self.max_size = max_size\n",
    "    def put(self, item):\n",
    "\n",
    "        if self.contents.__count__ > 4: # Not sure how to get the No more room statement\n",
    "            print(\"No more Room!\")\n",
    "        else:\n",
    "            self.contents.append(item)\n",
    "    def take(self, item):\n",
    "        self.contents.remove(item)\n",
    "    def dump(self):\n",
    "        self.contents.clear()"
   ]
  },
  {
   "cell_type": "code",
   "execution_count": 95,
   "id": "d22fd1c6",
   "metadata": {},
   "outputs": [],
   "source": [
    "my_pack = Backpack(\"Campbell\", \"Red\", \"5\")\n",
    "my_pack.dump()"
   ]
  },
  {
   "cell_type": "code",
   "execution_count": 96,
   "id": "306a4195",
   "metadata": {},
   "outputs": [
    {
     "ename": "AttributeError",
     "evalue": "'list' object has no attribute '__count__'",
     "output_type": "error",
     "traceback": [
      "\u001b[1;31m---------------------------------------------------------------------------\u001b[0m",
      "\u001b[1;31mAttributeError\u001b[0m                            Traceback (most recent call last)",
      "\u001b[1;32m<ipython-input-96-26369e3d86b2>\u001b[0m in \u001b[0;36m<module>\u001b[1;34m\u001b[0m\n\u001b[1;32m----> 1\u001b[1;33m \u001b[0mmy_pack\u001b[0m\u001b[1;33m.\u001b[0m\u001b[0mput\u001b[0m\u001b[1;33m(\u001b[0m\u001b[1;34m\"Pencil\"\u001b[0m\u001b[1;33m)\u001b[0m\u001b[1;33m\u001b[0m\u001b[1;33m\u001b[0m\u001b[0m\n\u001b[0m\u001b[0;32m      2\u001b[0m \u001b[0mmy_pack\u001b[0m\u001b[1;33m.\u001b[0m\u001b[0mput\u001b[0m\u001b[1;33m(\u001b[0m\u001b[1;34m\"Eraser\"\u001b[0m\u001b[1;33m)\u001b[0m\u001b[1;33m\u001b[0m\u001b[1;33m\u001b[0m\u001b[0m\n\u001b[0;32m      3\u001b[0m \u001b[0mmy_pack\u001b[0m\u001b[1;33m.\u001b[0m\u001b[0mput\u001b[0m\u001b[1;33m(\u001b[0m\u001b[1;34m\"Paper\"\u001b[0m\u001b[1;33m)\u001b[0m\u001b[1;33m\u001b[0m\u001b[1;33m\u001b[0m\u001b[0m\n\u001b[0;32m      4\u001b[0m \u001b[0mmy_pack\u001b[0m\u001b[1;33m.\u001b[0m\u001b[0mput\u001b[0m\u001b[1;33m(\u001b[0m\u001b[1;34m\"Book\"\u001b[0m\u001b[1;33m)\u001b[0m\u001b[1;33m\u001b[0m\u001b[1;33m\u001b[0m\u001b[0m\n",
      "\u001b[1;32m<ipython-input-94-0166051b3a1a>\u001b[0m in \u001b[0;36mput\u001b[1;34m(self, item)\u001b[0m\n\u001b[0;32m      7\u001b[0m     \u001b[1;32mdef\u001b[0m \u001b[0mput\u001b[0m\u001b[1;33m(\u001b[0m\u001b[0mself\u001b[0m\u001b[1;33m,\u001b[0m \u001b[0mitem\u001b[0m\u001b[1;33m)\u001b[0m\u001b[1;33m:\u001b[0m\u001b[1;33m\u001b[0m\u001b[1;33m\u001b[0m\u001b[0m\n\u001b[0;32m      8\u001b[0m \u001b[1;33m\u001b[0m\u001b[0m\n\u001b[1;32m----> 9\u001b[1;33m         \u001b[1;32mif\u001b[0m \u001b[0mself\u001b[0m\u001b[1;33m.\u001b[0m\u001b[0mcontents\u001b[0m\u001b[1;33m.\u001b[0m\u001b[0m__count__\u001b[0m \u001b[1;33m>\u001b[0m \u001b[1;36m4\u001b[0m\u001b[1;33m:\u001b[0m\u001b[1;33m\u001b[0m\u001b[1;33m\u001b[0m\u001b[0m\n\u001b[0m\u001b[0;32m     10\u001b[0m             \u001b[0mprint\u001b[0m\u001b[1;33m(\u001b[0m\u001b[1;34m\"No more Room!\"\u001b[0m\u001b[1;33m)\u001b[0m\u001b[1;33m\u001b[0m\u001b[1;33m\u001b[0m\u001b[0m\n\u001b[0;32m     11\u001b[0m         \u001b[1;32melse\u001b[0m\u001b[1;33m:\u001b[0m\u001b[1;33m\u001b[0m\u001b[1;33m\u001b[0m\u001b[0m\n",
      "\u001b[1;31mAttributeError\u001b[0m: 'list' object has no attribute '__count__'"
     ]
    }
   ],
   "source": [
    "my_pack.put(\"Pencil\")\n",
    "my_pack.put(\"Eraser\")\n",
    "my_pack.put(\"Paper\")\n",
    "my_pack.put(\"Book\")"
   ]
  },
  {
   "cell_type": "code",
   "execution_count": 87,
   "id": "fbe68a5e",
   "metadata": {},
   "outputs": [
    {
     "data": {
      "text/plain": [
       "['Pencil', 'Eraser', 'Paper', 'Book']"
      ]
     },
     "execution_count": 87,
     "metadata": {},
     "output_type": "execute_result"
    }
   ],
   "source": [
    "my_pack.contents"
   ]
  },
  {
   "cell_type": "code",
   "execution_count": 88,
   "id": "9e3ffb9a",
   "metadata": {},
   "outputs": [],
   "source": [
    "my_pack.put(\"Calculator\")"
   ]
  },
  {
   "cell_type": "code",
   "execution_count": 89,
   "id": "5beffea1",
   "metadata": {},
   "outputs": [],
   "source": [
    "my_pack.put(\"Binder\")"
   ]
  },
  {
   "cell_type": "code",
   "execution_count": 90,
   "id": "b4c96624",
   "metadata": {},
   "outputs": [
    {
     "data": {
      "text/plain": [
       "['Pencil', 'Eraser', 'Paper', 'Book', 'Calculator', 'Binder']"
      ]
     },
     "execution_count": 90,
     "metadata": {},
     "output_type": "execute_result"
    }
   ],
   "source": [
    "my_pack.contents"
   ]
  },
  {
   "cell_type": "code",
   "execution_count": null,
   "id": "f0cff9af",
   "metadata": {},
   "outputs": [],
   "source": []
  },
  {
   "cell_type": "markdown",
   "id": "49fd9759",
   "metadata": {},
   "source": [
    "### 3.2"
   ]
  },
  {
   "cell_type": "code",
   "execution_count": 97,
   "id": "bbed2068",
   "metadata": {},
   "outputs": [],
   "source": [
    "class Jetpack(Backpack):\n",
    "    def __init__(self, name, color, max_size = 2, fuel = 10):\n",
    "        self.fuel = fuel"
   ]
  },
  {
   "cell_type": "code",
   "execution_count": null,
   "id": "1a309d24",
   "metadata": {},
   "outputs": [],
   "source": []
  }
 ],
 "metadata": {
  "kernelspec": {
   "display_name": "Python 3",
   "language": "python",
   "name": "python3"
  },
  "language_info": {
   "codemirror_mode": {
    "name": "ipython",
    "version": 3
   },
   "file_extension": ".py",
   "mimetype": "text/x-python",
   "name": "python",
   "nbconvert_exporter": "python",
   "pygments_lexer": "ipython3",
   "version": "3.8.8"
  }
 },
 "nbformat": 4,
 "nbformat_minor": 5
}
