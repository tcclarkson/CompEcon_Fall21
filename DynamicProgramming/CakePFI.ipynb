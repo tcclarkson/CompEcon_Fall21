{
 "cells": [
  {
   "cell_type": "markdown",
   "metadata": {},
   "source": [
    "#  The Deterministic Cake Eating Problem - Policy Function Iteration Solution\n",
    "### by [Jason DeBacker](http://jasondebacker.com), November 2021\n",
    "This Jupyter notebook illustrates how to solve the deterministic cake eating problem using Coleman's policy function iteration (PFI).\n",
    "\n",
    "## The Problem:\n",
    "\n",
    "$$V(w)=\\max_{c} u(c)+\\beta V(w'), \\forall w\\in[0,\\bar{w}]$$\n",
    "\n",
    "The necessary condition (after applying the envelope theorem) is given by the Euler equation:\n",
    "\n",
    "$$ u'(c) = \\beta u'(c') $$\n",
    "\n",
    "The unknowns in this system are functions: The value function, $V(w)$, and the policy function, $c = \\phi(w)$ (or, equivalently, $w' = p(w)$).\n",
    "\n",
    "## The Solution:\n",
    "\n",
    "We'll solve this problem with policy function iteration (PFI).  With this method, we'll use an iterative procedure to converge to a fixed point in function space, the true policy function, $\\phi(w)$.  \n",
    "\n",
    "The computational algorithm for PFI is as follows:\n",
    "\n",
    "1. Create a discrete grid of the state variable, $w$\n",
    "2. Make an initial guess at the policy function, $\\phi_{0}(w)$\n",
    "    * This will be a consumption value for each point in the state space\n",
    "3. Find $K\\phi(w)$, where $K\\phi(w)$ is the root  of:\n",
    "$$ u'(K\\phi(w)) - \\beta u'(\\phi_{0}(w - K\\phi(w)) = 0$$\n",
    "4. Update the guess at the policy function: $\\phi_{1}(w) = K\\phi(w)$\n",
    "5. Repeat this process:\n",
    "$$\\phi_{i+1} \\ (w) = K\\phi(w), \\text{ where } K\\phi(w) \\text{ solves } u'(K\\phi(w)) - \\beta u'(\\phi_{i}(w - K\\phi(w)) = 0$$\n",
    "6. Stop when, $|\\phi_{i+1} \\ (w)-\\phi_{i}(w)|<\\varepsilon$, where $\\varepsilon$ is a small number.\n",
    "\n"
   ]
  },
  {
   "cell_type": "code",
   "execution_count": 1,
   "metadata": {},
   "outputs": [],
   "source": [
    "# Import packages\n",
    "import numpy as np\n",
    "import matplotlib.pyplot as plt\n",
    "import scipy.optimize as opt\n",
    "from scipy.optimize import fminbound\n",
    "from scipy import interpolate\n",
    "\n",
    "# to print plots inline\n",
    "%matplotlib inline"
   ]
  },
  {
   "cell_type": "markdown",
   "metadata": {},
   "source": [
    "## Step 1: Set parameters and create grid for state space\n",
    "\n",
    "Parameters:\n",
    "* $\\beta$ = rate of time preference\n",
    "* $\\sigma$ = coefficient of relative risk aversion (if $\\sigma = 1$, $u(c)=log(c)$), parameter describes the curvature of the utility function"
   ]
  },
  {
   "cell_type": "code",
   "execution_count": 2,
   "metadata": {},
   "outputs": [],
   "source": [
    "beta = 0.95\n",
    "sigma = 1.0\n",
    "R = 1\n",
    "\n",
    "'''\n",
    "------------------------------------------------------------------------\n",
    "Create Grid for State Space    \n",
    "------------------------------------------------------------------------\n",
    "lb_w      = scalar, lower bound of cake grid\n",
    "ub_w      = scalar, upper bound of cake grid \n",
    "size_w    = integer, number of grid points in cake state space\n",
    "w_grid    = vector, size_w x 1 vector of cake grid points \n",
    "------------------------------------------------------------------------\n",
    "'''\n",
    "lb_w = 0.4 \n",
    "ub_w = 2.0 \n",
    "size_w = 200  # Number of grid points\n",
    "w_grid = np.linspace(lb_w, ub_w, size_w)"
   ]
  },
  {
   "cell_type": "markdown",
   "metadata": {},
   "source": [
    "## Step 2: Create functions to use in solution"
   ]
  },
  {
   "cell_type": "code",
   "execution_count": 3,
   "metadata": {},
   "outputs": [],
   "source": [
    "def utility(w, wprime, sigma, R):\n",
    "    \"\"\"\n",
    "    Per period utility function\n",
    "    \"\"\"\n",
    "    C = w - wprime / R\n",
    "    try:\n",
    "        C[C<=0] = 1e-10 # replace 0 and negative consumption with a tiny value - to impose non-negativity on cons\n",
    "    except TypeError:\n",
    "        if C <= 0:\n",
    "            C = 1e-10\n",
    "    if sigma == 1:\n",
    "        U = np.log(C)\n",
    "    else:\n",
    "        U = (C ** (1 - sigma)) / (1 - sigma)\n",
    "    \n",
    "    return U\n",
    "\n",
    "\n",
    "def u_prime(C, sigma):\n",
    "    MU = C ** - sigma\n",
    "    try:\n",
    "        MU[C<=0] = 999999999 # replace 0 and negative consumption with a tiny value - to impose non-negativity on cons\n",
    "    except TypeError:\n",
    "        if C <= 0:\n",
    "            MU = 999999999\n",
    "    \n",
    "    return MU"
   ]
  },
  {
   "cell_type": "code",
   "execution_count": 4,
   "metadata": {},
   "outputs": [],
   "source": [
    "def coleman_operator(phi, w_grid, params):\n",
    "    '''\n",
    "    The Coleman operator, which takes an existing guess phi of the\n",
    "    optimal consumption policy and computes and returns the updated function\n",
    "    Kphi on the grid points.\n",
    "    '''\n",
    "    beta, sigma = params\n",
    "    \n",
    "    # === Apply linear interpolation to phi === #\n",
    "    phi_func = interpolate.interp1d(w_grid, phi, fill_value='extrapolate')\n",
    "\n",
    "    # == Initialize Kphi if necessary == #\n",
    "    Kphi = np.empty_like(phi)\n",
    "\n",
    "    # == solve for updated consumption value\n",
    "    for i, w in enumerate(w_grid):\n",
    "        def h(c):\n",
    "            return u_prime(c, sigma) - beta * u_prime(phi_func(R * (w - c)), sigma)\n",
    "        results = opt.root(h, 1e-10)\n",
    "        c_star = results.x[0]\n",
    "        Kphi[i] = c_star\n",
    "        \n",
    "    return Kphi"
   ]
  },
  {
   "cell_type": "markdown",
   "metadata": {},
   "source": [
    "## Step 3: Policy Function Iteration"
   ]
  },
  {
   "cell_type": "code",
   "execution_count": 5,
   "metadata": {},
   "outputs": [
    {
     "name": "stdout",
     "output_type": "stream",
     "text": [
      "Iteration  1  distance =  0.9743589743589745\n",
      "Iteration  2  distance =  0.3245016741949327\n",
      "Iteration  3  distance =  0.16203762968996904\n",
      "Iteration  4  distance =  0.09705232549890097\n",
      "Iteration  5  distance =  0.06456000857510014\n",
      "Iteration  6  distance =  0.04599332036889442\n",
      "Iteration  7  distance =  0.034389500854108024\n",
      "Iteration  8  distance =  0.02665398942464242\n",
      "Iteration  9  distance =  0.021239505165381423\n",
      "Iteration  10  distance =  0.017302076043669207\n",
      "Iteration  11  distance =  0.014349384407750049\n",
      "Iteration  12  distance =  0.012078464911242037\n",
      "Iteration  13  distance =  0.010294553477425028\n",
      "Iteration  14  distance =  0.00886780674902729\n",
      "Iteration  15  distance =  0.007708956780644871\n",
      "Iteration  16  distance =  0.006754990271822581\n",
      "Iteration  17  distance =  0.005960396989169808\n",
      "Iteration  18  distance =  0.005291642456029366\n",
      "Iteration  19  distance =  0.00472357520273306\n",
      "Iteration  20  distance =  0.004237031601989405\n",
      "Iteration  21  distance =  0.003817202803910874\n",
      "Iteration  22  distance =  0.0034524986926975643\n",
      "Iteration  23  distance =  0.0031337431908834423\n",
      "Iteration  24  distance =  0.0028535948801797217\n",
      "Iteration  25  distance =  0.002606123610538691\n",
      "Iteration  26  distance =  0.0023864968787516982\n",
      "Iteration  27  distance =  0.002190744613957324\n",
      "Iteration  28  distance =  0.0020155807403111903\n",
      "Iteration  29  distance =  0.0018582663764368512\n",
      "Iteration  30  distance =  0.0017165039265373272\n",
      "Iteration  31  distance =  0.001588354340271686\n",
      "Iteration  32  distance =  0.0014721719246062331\n",
      "Iteration  33  distance =  0.0013665525778579213\n",
      "Iteration  34  distance =  0.0012702923777909991\n",
      "Iteration  35  distance =  0.0011823542230611633\n",
      "Iteration  36  distance =  0.0011018407863833957\n",
      "Iteration  37  distance =  0.0010279724509021926\n",
      "Iteration  38  distance =  0.0009600692073213069\n",
      "Iteration  39  distance =  0.000897535719700332\n",
      "Iteration  40  distance =  0.000839848941505017\n",
      "Iteration  41  distance =  0.0007865477962722411\n",
      "Iteration  42  distance =  0.0007372245384789228\n",
      "Iteration  43  distance =  0.0006915174893322579\n",
      "Iteration  44  distance =  0.000649104902847919\n",
      "Iteration  45  distance =  0.0006096997656680619\n",
      "Iteration  46  distance =  0.0005730453716372291\n",
      "Iteration  47  distance =  0.0005389115419600632\n",
      "Iteration  48  distance =  0.000507091385519437\n",
      "Iteration  49  distance =  0.0004773985128865704\n",
      "Iteration  50  distance =  0.0004496646328240317\n",
      "Iteration  51  distance =  0.0004237374724084392\n",
      "Iteration  52  distance =  0.00039947897189547554\n",
      "Iteration  53  distance =  0.00037676371359085525\n",
      "Iteration  54  distance =  0.0003554775506764002\n",
      "Iteration  55  distance =  0.0003355164074083372\n",
      "Iteration  56  distance =  0.000316785226570665\n",
      "Iteration  57  distance =  0.0002991970439142899\n",
      "Iteration  58  distance =  0.00028267217230272534\n",
      "Iteration  59  distance =  0.00026713748094045475\n",
      "Iteration  60  distance =  0.00025252575717248094\n",
      "Iteration  61  distance =  0.00023877514023411262\n",
      "Iteration  62  distance =  0.00022582861775294338\n",
      "Iteration  63  distance =  0.00021363357717577025\n",
      "Iteration  64  distance =  0.00020214140534995095\n",
      "Iteration  65  distance =  0.00019130713040184377\n",
      "Iteration  66  distance =  0.00018108910086796215\n",
      "Iteration  67  distance =  0.00017144869768426219\n",
      "Iteration  68  distance =  0.00016235007521392397\n",
      "Iteration  69  distance =  0.00015375992800659155\n",
      "Iteration  70  distance =  0.00014564728037080865\n",
      "Iteration  71  distance =  0.00013798329622906336\n",
      "Iteration  72  distance =  0.00013074110703703568\n",
      "Iteration  73  distance =  0.00012389565580234185\n",
      "Iteration  74  distance =  0.00011742355549458627\n",
      "Iteration  75  distance =  0.0001113029603277832\n",
      "Iteration  76  distance =  0.00010551344858202027\n",
      "Iteration  77  distance =  0.00010003591578269799\n",
      "Iteration  78  distance =  9.485247718210577e-05\n",
      "Iteration  79  distance =  8.994637862905219e-05\n",
      "Iteration  80  distance =  8.53019149872486e-05\n",
      "Iteration  81  distance =  8.090435539023777e-05\n",
      "Iteration  82  distance =  7.673987464035248e-05\n",
      "Iteration  83  distance =  7.2795490210803e-05\n",
      "Iteration  84  distance =  6.905900429904355e-05\n",
      "Iteration  85  distance =  6.551895048362288e-05\n",
      "Iteration  86  distance =  6.216454453737696e-05\n",
      "Iteration  87  distance =  5.898563907477672e-05\n",
      "Iteration  88  distance =  5.5972681623425724e-05\n",
      "Iteration  89  distance =  5.3116675879635866e-05\n",
      "Iteration  90  distance =  5.0409145840521474e-05\n",
      "Iteration  91  distance =  4.7842102573567025e-05\n",
      "Iteration  92  distance =  4.540801340542633e-05\n",
      "Iteration  93  distance =  4.309977331960757e-05\n",
      "Iteration  94  distance =  4.0910678380592924e-05\n",
      "Iteration  95  distance =  3.883440104301972e-05\n",
      "Iteration  96  distance =  3.686496714992715e-05\n",
      "Iteration  97  distance =  3.499673452617147e-05\n",
      "Iteration  98  distance =  3.322437302233361e-05\n",
      "Iteration  99  distance =  3.154284590038692e-05\n",
      "Iteration  100  distance =  2.9947392456222688e-05\n",
      "Iteration  101  distance =  2.8433511788827914e-05\n",
      "Iteration  102  distance =  2.6996947628948886e-05\n",
      "Iteration  103  distance =  2.5633674143946128e-05\n",
      "Iteration  104  distance =  2.4339882655058376e-05\n",
      "Iteration  105  distance =  2.311196919496661e-05\n",
      "Iteration  106  distance =  2.1946522848342864e-05\n",
      "Iteration  107  distance =  2.0840314818887373e-05\n",
      "Iteration  108  distance =  1.979028816773143e-05\n",
      "Iteration  109  distance =  1.879354819273038e-05\n",
      "Iteration  110  distance =  1.7847353373456887e-05\n",
      "Iteration  111  distance =  1.6949106883532017e-05\n",
      "Iteration  112  distance =  1.609634859377207e-05\n",
      "Iteration  113  distance =  1.5286747561071845e-05\n",
      "Iteration  114  distance =  1.4518094956672556e-05\n",
      "Iteration  115  distance =  1.3788297409472738e-05\n",
      "Iteration  116  distance =  1.3095370738042122e-05\n",
      "Iteration  117  distance =  1.2437434043541251e-05\n",
      "Iteration  118  distance =  1.1812704144215092e-05\n",
      "Iteration  119  distance =  1.1219490326702664e-05\n",
      "Iteration  120  distance =  1.065618939675994e-05\n",
      "Iteration  121  distance =  1.012128100884302e-05\n",
      "Iteration  122  distance =  9.613323259508033e-06\n",
      "Iteration  123  distance =  9.130948525420957e-06\n",
      "Iteration  124  distance =  8.672859535721611e-06\n",
      "Iteration  125  distance =  8.237825659868081e-06\n",
      "Iteration  126  distance =  7.824679400220136e-06\n",
      "Iteration  127  distance =  7.432313079230868e-06\n",
      "Iteration  128  distance =  7.059675706383439e-06\n",
      "Iteration  129  distance =  6.705770014978074e-06\n",
      "Iteration  130  distance =  6.369649661233656e-06\n",
      "Iteration  131  distance =  6.050416574310269e-06\n",
      "Iteration  132  distance =  5.747218448454161e-06\n",
      "Iteration  133  distance =  5.459246370770332e-06\n",
      "Iteration  134  distance =  5.185732574866653e-06\n",
      "Iteration  135  distance =  4.925948315179229e-06\n",
      "Iteration  136  distance =  4.679201853985404e-06\n",
      "Iteration  137  distance =  4.444836554637344e-06\n",
      "Iteration  138  distance =  4.222229076589201e-06\n",
      "Iteration  139  distance =  4.010787665126303e-06\n",
      "Iteration  140  distance =  3.8099505310640325e-06\n",
      "Iteration  141  distance =  3.6191843150318315e-06\n",
      "Iteration  142  distance =  3.4379826333308383e-06\n",
      "Iteration  143  distance =  3.265864698787091e-06\n",
      "Iteration  144  distance =  3.1023740135888156e-06\n",
      "Iteration  145  distance =  2.9470771306661092e-06\n",
      "Iteration  146  distance =  2.799562478783546e-06\n",
      "Iteration  147  distance =  2.659439249375062e-06\n",
      "Iteration  148  distance =  2.526336339583879e-06\n",
      "Iteration  149  distance =  2.399901351632372e-06\n",
      "Iteration  150  distance =  2.2797996423462585e-06\n",
      "Iteration  151  distance =  2.165713422735971e-06\n",
      "Iteration  152  distance =  2.0573409029583933e-06\n",
      "Iteration  153  distance =  1.9543954817013987e-06\n",
      "Iteration  154  distance =  1.8566049772711368e-06\n",
      "Iteration  155  distance =  1.7637108979812188e-06\n",
      "Iteration  156  distance =  1.6754677489849712e-06\n",
      "Iteration  157  distance =  1.5916423765915955e-06\n",
      "Iteration  158  distance =  1.51201334355755e-06\n",
      "Iteration  159  distance =  1.4363703382258564e-06\n",
      "Iteration  160  distance =  1.364513612794882e-06\n",
      "Iteration  161  distance =  1.2962534503141443e-06\n",
      "Iteration  162  distance =  1.2314096592136448e-06\n",
      "Iteration  163  distance =  1.1698110927854666e-06\n",
      "Iteration  164  distance =  1.1112951935898785e-06\n",
      "Iteration  165  distance =  1.0557075613426559e-06\n",
      "Iteration  166  distance =  1.0029015413692832e-06\n",
      "Iteration  167  distance =  9.527378355550509e-07\n",
      "Iteration  168  distance =  9.050841318636316e-07\n",
      "Iteration  169  distance =  8.598147528404709e-07\n",
      "Iteration  170  distance =  8.168103225042467e-07\n",
      "Iteration  171  distance =  7.759574489757393e-07\n",
      "Iteration  172  distance =  7.371484242874038e-07\n",
      "Iteration  173  distance =  7.002809383066522e-07\n",
      "Iteration  174  distance =  6.652578082161353e-07\n",
      "Iteration  175  distance =  6.319867203591345e-07\n",
      "Iteration  176  distance =  6.003799863374404e-07\n",
      "Iteration  177  distance =  5.703543103363629e-07\n",
      "Iteration  178  distance =  5.418305693283276e-07\n",
      "Iteration  179  distance =  5.147336029631688e-07\n",
      "Iteration  180  distance =  4.889920150602522e-07\n",
      "Iteration  181  distance =  4.645379851897502e-07\n",
      "Iteration  182  distance =  4.4130708874712266e-07\n",
      "Iteration  183  distance =  4.192381267975609e-07\n",
      "Iteration  184  distance =  3.982729648160932e-07\n",
      "Iteration  185  distance =  3.7835637835270663e-07\n",
      "Iteration  186  distance =  3.594359077180309e-07\n",
      "Iteration  187  distance =  3.414617192332159e-07\n",
      "Iteration  188  distance =  3.2438647343258076e-07\n",
      "Iteration  189  distance =  3.0816520063536856e-07\n",
      "Iteration  190  distance =  2.9275518147187096e-07\n",
      "Iteration  191  distance =  2.781158347647805e-07\n",
      "Iteration  192  distance =  2.6420861028164655e-07\n",
      "Iteration  193  distance =  2.509968866082346e-07\n",
      "Iteration  194  distance =  2.384458753085239e-07\n",
      "Iteration  195  distance =  2.2652252835986264e-07\n",
      "Iteration  196  distance =  2.1519545137516083e-07\n",
      "Iteration  197  distance =  2.0443482100229726e-07\n",
      "Iteration  198  distance =  1.942123057097067e-07\n",
      "Iteration  199  distance =  1.8450099176225976e-07\n",
      "Iteration  200  distance =  1.7527531159799992e-07\n",
      "Iteration  201  distance =  1.6651097686781746e-07\n",
      "Iteration  202  distance =  1.5818491447272542e-07\n",
      "Iteration  203  distance =  1.502752052101597e-07\n",
      "Iteration  204  distance =  1.4276102654198208e-07\n",
      "Iteration  205  distance =  1.3562259774946295e-07\n",
      "Iteration  206  distance =  1.2884112715605411e-07\n",
      "Iteration  207  distance =  1.223987631943091e-07\n",
      "Iteration  208  distance =  1.1627854755447142e-07\n",
      "Iteration  209  distance =  1.1046436970696405e-07\n",
      "Iteration  210  distance =  1.04940925130248e-07\n",
      "Iteration  211  distance =  9.969367495421544e-08\n",
      "Iteration  212  distance =  9.470880707462825e-08\n",
      "Iteration  213  distance =  8.997320051495894e-08\n",
      "Iteration  214  distance =  8.547439057926542e-08\n",
      "Iteration  215  distance =  8.120053571203378e-08\n",
      "Iteration  216  distance =  7.714038671724488e-08\n",
      "Iteration  217  distance =  7.328325722644191e-08\n",
      "Iteration  218  distance =  6.961899481905398e-08\n",
      "Iteration  219  distance =  6.61379552929775e-08\n",
      "Iteration  220  distance =  6.283097657433512e-08\n",
      "Iteration  221  distance =  5.968935461175828e-08\n",
      "Iteration  222  distance =  5.670482089437101e-08\n",
      "Iteration  223  distance =  5.386952024732938e-08\n",
      "Iteration  224  distance =  5.1175990473106836e-08\n",
      "Iteration  225  distance =  4.861714246462423e-08\n",
      "Iteration  226  distance =  4.6186241567380826e-08\n",
      "Iteration  227  distance =  4.3876889899152616e-08\n",
      "Iteration  228  distance =  4.168300979379147e-08\n",
      "Iteration  229  distance =  3.959882712012419e-08\n",
      "Iteration  230  distance =  3.761885662700859e-08\n",
      "Iteration  231  distance =  3.573788766308983e-08\n",
      "Iteration  232  distance =  3.39509695218565e-08\n",
      "Iteration  233  distance =  3.225339972878771e-08\n",
      "Iteration  234  distance =  3.064071053826556e-08\n",
      "Iteration  235  distance =  2.9108657567666896e-08\n",
      "Iteration  236  distance =  2.7653208986566646e-08\n",
      "Iteration  237  distance =  2.6270534442263127e-08\n",
      "Iteration  238  distance =  2.495699485960401e-08\n",
      "Iteration  239  distance =  2.3709133600835486e-08\n",
      "Iteration  240  distance =  2.2523666501350625e-08\n",
      "Iteration  241  distance =  2.139747370955014e-08\n",
      "Iteration  242  distance =  2.0327591568336523e-08\n",
      "Iteration  243  distance =  1.9311204357830292e-08\n",
      "Iteration  244  distance =  1.8345637259331582e-08\n",
      "Iteration  245  distance =  1.7428349166626056e-08\n",
      "Iteration  246  distance =  1.6556925983013393e-08\n",
      "Iteration  247  distance =  1.5729074695491896e-08\n",
      "Iteration  248  distance =  1.494261635259786e-08\n",
      "Iteration  249  distance =  1.419548138759108e-08\n",
      "Iteration  250  distance =  1.3485703623250522e-08\n",
      "Iteration  251  distance =  1.2811415039948315e-08\n",
      "Iteration  252  distance =  1.2170841251490927e-08\n",
      "Iteration  253  distance =  1.1562296425848828e-08\n",
      "Iteration  254  distance =  1.0984179135697936e-08\n",
      "Iteration  255  distance =  1.0434967959160879e-08\n",
      "Iteration  256  distance =  9.913217483004111e-09\n",
      "Policy function converged after this many iterations: 257\n"
     ]
    }
   ],
   "source": [
    "'''\n",
    "------------------------------------------------------------------------\n",
    "Policy Function Iteration    \n",
    "------------------------------------------------------------------------\n",
    "PFtol     = scalar, tolerance required for policy function to converge\n",
    "PFdist    = scalar, distance between last two policy functions\n",
    "PFmaxiter = integer, maximum number of iterations for policy function\n",
    "phi       = vector, policy function for choice of consumption at each iteration\n",
    "PFstore   = matrix, stores phi at each iteration \n",
    "PFiter    = integer, current iteration number\n",
    "PF_params = tuple, contains parameters to pass into Coleman operator: beta, sigma\n",
    "new_phi   = vector, updated policy function after applying Coleman operator \n",
    "------------------------------------------------------------------------\n",
    "'''\n",
    "PFtol = 1e-8 \n",
    "PFdist = 7.0 \n",
    "PFmaxiter = 500 \n",
    "phi = w_grid # initial guess at policy function is to eat all cake\n",
    "PFstore = np.zeros((size_w, PFmaxiter)) #initialize PFstore array\n",
    "PFiter = 1 \n",
    "PF_params = (beta, sigma)\n",
    "while PFdist > PFtol and PFiter < PFmaxiter:\n",
    "    PFstore[:, PFiter] = phi\n",
    "    new_phi = coleman_operator(phi, w_grid, PF_params)\n",
    "    PFdist = (np.absolute(phi - new_phi)).max()\n",
    "    phi = new_phi\n",
    "    print('Iteration ', PFiter, ' distance = ', PFdist)\n",
    "    PFiter += 1\n",
    "\n",
    "if PFiter < PFmaxiter:\n",
    "    print('Policy function converged after this many iterations:', PFiter)\n",
    "else:\n",
    "    print('Policy function did not converge')            "
   ]
  },
  {
   "cell_type": "markdown",
   "metadata": {},
   "source": [
    "## Step 4: Extract decision rules from solution"
   ]
  },
  {
   "cell_type": "code",
   "execution_count": 6,
   "metadata": {},
   "outputs": [],
   "source": [
    "'''\n",
    "------------------------------------------------------------------------\n",
    "Find savings policy function and value function   \n",
    "------------------------------------------------------------------------\n",
    "optC  = vector, the optimal choice of c for each c\n",
    "optW  = vector, the optimal choice of w' for each w\n",
    "VF    = vector, the \"true\" value function\n",
    "------------------------------------------------------------------------\n",
    "'''\n",
    "optC = phi # optimal consumption\n",
    "optW = R * (w_grid - optC) # solution to the savings policy function from transition equation"
   ]
  },
  {
   "cell_type": "markdown",
   "metadata": {},
   "source": [
    "## Visualize output"
   ]
  },
  {
   "cell_type": "code",
   "execution_count": 7,
   "metadata": {},
   "outputs": [
    {
     "data": {
      "text/plain": [
       "<Figure size 432x288 with 0 Axes>"
      ]
     },
     "metadata": {},
     "output_type": "display_data"
    },
    {
     "data": {
      "image/png": "[encoded data removed]",
      "text/plain": [
       "<Figure size 432x288 with 1 Axes>"
      ]
     },
     "metadata": {
      "needs_background": "light"
     },
     "output_type": "display_data"
    }
   ],
   "source": [
    "#Plot optimal consumption rule as a function of cake size\n",
    "plt.figure()\n",
    "fig, ax = plt.subplots()\n",
    "ax.plot(w_grid[1:], optC[1:], label='Consumption')\n",
    "# Now add the legend with some customizations.\n",
    "legend = ax.legend(loc='upper left', shadow=False)\n",
    "# Set the fontsize\n",
    "for label in legend.get_texts():\n",
    "    label.set_fontsize('large')\n",
    "for label in legend.get_lines():\n",
    "    label.set_linewidth(1.5)  # the legend line width\n",
    "plt.xlabel('Size of Cake')\n",
    "plt.ylabel('Optimal Consumption')\n",
    "plt.title('Policy Function, consumption - deterministic cake eating')\n",
    "plt.show()"
   ]
  },
  {
   "cell_type": "code",
   "execution_count": 12,
   "metadata": {},
   "outputs": [
    {
     "data": {
      "text/plain": [
       "<Figure size 432x288 with 0 Axes>"
      ]
     },
     "metadata": {},
     "output_type": "display_data"
    },
    {
     "data": {
      "image/png": "[encoded data removed]",
      "text/plain": [
       "<Figure size 432x288 with 1 Axes>"
      ]
     },
     "metadata": {
      "needs_background": "light"
     },
     "output_type": "display_data"
    }
   ],
   "source": [
    "#Plot cake to leave rule as a function of cake size\n",
    "plt.figure()\n",
    "fig, ax = plt.subplots()\n",
    "ax.plot(w_grid[1:], optW[1:], label='Savings')\n",
    "ax.plot(w_grid[1:], w_grid[1:], '--', label='45 degree line')\n",
    "# Now add the legend with some customizations.\n",
    "legend = ax.legend(loc='upper left', shadow=False)\n",
    "# Set the fontsize\n",
    "for label in legend.get_texts():\n",
    "    label.set_fontsize('large')\n",
    "for label in legend.get_lines():\n",
    "    label.set_linewidth(1.5)  # the legend line width\n",
    "plt.xlabel('Size of Cake')\n",
    "plt.ylabel('Optimal Savings')\n",
    "plt.title('Policy Function, savings - deterministic cake eating')\n",
    "plt.show()"
   ]
  },
  {
   "cell_type": "markdown",
   "metadata": {
    "collapsed": true
   },
   "source": [
    "## Finding approximation errors\n",
    "\n",
    "It's a little complicated (we need to do the guess and verify method), but we can show that with $\\sigma = 1.0$ (i.e., $u(c) = log(c)$), then the policy function is $w' = \\beta w$.  Knowing this, we can find the approximation error from our solution method (VFI over a discrete grid).  This errors are found as:"
   ]
  },
  {
   "cell_type": "code",
   "execution_count": 10,
   "metadata": {},
   "outputs": [
    {
     "data": {
      "image/png": "[encoded data removed]",
      "text/plain": [
       "<Figure size 432x288 with 1 Axes>"
      ]
     },
     "metadata": {
      "needs_background": "light"
     },
     "output_type": "display_data"
    }
   ],
   "source": [
    "Wprime_errors = optW - beta * w_grid\n",
    "\n",
    "# Plot policy function approximation errors\n",
    "plt.figure()\n",
    "plt.plot(w_grid[1:], Wprime_errors[1:])\n",
    "plt.xlabel('Size of Cake')\n",
    "plt.ylabel('Error')\n",
    "plt.title('PFI w prime policy function errors')\n",
    "plt.show()"
   ]
  },
  {
   "cell_type": "code",
   "execution_count": 9,
   "metadata": {},
   "outputs": [
    {
     "data": {
      "image/png": "[encoded data removed]",
      "text/plain": [
       "<Figure size 432x288 with 1 Axes>"
      ]
     },
     "metadata": {
      "needs_background": "light"
     },
     "output_type": "display_data"
    }
   ],
   "source": [
    "C_errors = optC - (1 - beta) * w_grid\n",
    "# Plot policy function approximation errors\n",
    "plt.figure()\n",
    "plt.plot(w_grid[1:], C_errors[1:])\n",
    "plt.xlabel('Size of Cake')\n",
    "plt.ylabel('Error')\n",
    "plt.title('PFI consumption policy function errors')\n",
    "plt.show()"
   ]
  },
  {
   "cell_type": "code",
   "execution_count": null,
   "metadata": {},
   "outputs": [],
   "source": []
  }
 ],
 "metadata": {
  "kernelspec": {
   "display_name": "Python 3 (ipykernel)",
   "language": "python",
   "name": "python3"
  },
  "language_info": {
   "codemirror_mode": {
    "name": "ipython",
    "version": 3
   },
   "file_extension": ".py",
   "mimetype": "text/x-python",
   "name": "python",
   "nbconvert_exporter": "python",
   "pygments_lexer": "ipython3",
   "version": "3.7.7"
  }
 },
 "nbformat": 4,
 "nbformat_minor": 2
}
