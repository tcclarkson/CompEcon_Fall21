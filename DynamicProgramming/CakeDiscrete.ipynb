{
 "cells": [
  {
   "cell_type": "markdown",
   "metadata": {},
   "source": [
    "# The Discrete Choice Cake Eating Problem\n",
    "### by [Jason DeBacker](http://jasondebacker.com), June 2019\n",
    "This Jupyter notebook illustrates how to solve the stochastic discerete cake eating problem using value function iteration (VFI).\n",
    "\n",
    "\n",
    "## The Problem:\n",
    "\n",
    "$$V(w, \\varepsilon)=max\\left\\{V^{0}(w, \\varepsilon), V^{1}(w, \\varepsilon)\\right\\}, \\forall w\\in[0,\\bar{w}]$$\n",
    "\n",
    "where:\n",
    "\n",
    "$$V^{0}(w, \\varepsilon) = \\beta E_{\\varepsilon' |\\varepsilon}V(\\rho w,\\varepsilon')$$\n",
    "\n",
    "and\n",
    "\n",
    "$$V^{1}(w, \\varepsilon) = \\varepsilon u(w)$$\n",
    "\n",
    "The unknowns in this system are functions: The value function, $V(w, \\varepsilon)$, and the policy function, $z(w,\\varepsilon)\\in \\{0, 1\\}, \\forall w, \\varepsilon$.\n",
    "\n",
    "## The Solution:\n",
    "\n",
    "We'll solve this problem with value function iteration (VFI).  With this method, we'll use an iterative procedure to converge to a fixed point in function space, the true value function, $V(w)$.  \n",
    "\n",
    "The computational algorithm for VFI is as follows:\n",
    "\n",
    "1. Create a discrete grid of the state variables, $w$ and $\\varepsilon$\n",
    "2. Make an initial guess at the value function, $V_{0}(w, \\varepsilon)$\n",
    "    * This will be a value for each point in the state space - the number of points is equal to the number of points in the $w$-grid times the number of points in the $\\varepsilon$ grid.\n",
    "3. Perform the operation:\n",
    "$$TV(w) = \\max\\left\\{\\varepsilon u(w), \\beta E_{\\varepsilon'|\\varepsilon} V_{0}(\\rho w, \\varepsilon')\\right\\}$$\n",
    "4. Update the guess at the value function: $V_{1}(w) = TV(w)$\n",
    "5. Repeat this process:\n",
    "$$V_{i+1} \\ (w) = TV(w) = \\max\\left\\{\\varepsilon u(w), \\beta E_{\\varepsilon'|\\varepsilon} V_{i}(\\rho w, \\varepsilon')\\right\\}$$\n",
    "6. Stop when, $|V_{i+1} \\ (w)-V_{i}(w)|<\\varepsilon$, where $\\varepsilon$ is a small number.\n"
   ]
  },
  {
   "cell_type": "code",
   "execution_count": 14,
   "metadata": {
    "collapsed": true
   },
   "outputs": [],
   "source": [
    "# Import packages\n",
    "import numpy as np\n",
    "import matplotlib.pyplot as plt\n",
    "\n",
    "# to print plots inline\n",
    "%matplotlib inline"
   ]
  },
  {
   "cell_type": "markdown",
   "metadata": {},
   "source": [
    "## Step 1: Set parameters and create grid for state space\n",
    "\n",
    "Prference Parameters:\n",
    "* $\\beta$ = rate of time preference\n",
    "* $\\sigma$ = coefficient of relative risk aversion (if $\\sigma = 1$, $u(c)=log(c)$), parameter describes the curvature of the utility function\n",
    "* Taste shock, $ln(\\varepsilon_{t+1} \\ ) = (1-\\rho_{\\varepsilon})\\mu_{\\varepsilon} + \\rho_{\\varepsilon} ln(\\varepsilon_{t}) + v_{t}$, $v_{t}\\sim (0, \\sigma_{v})$\n",
    " * $\\mu_{\\varepsilon}$ = mean of taste shocks\n",
    " * $\\rho_{\\varepsilon}$ = persistence of taste shocks\n",
    " * $\\sigma_{\\varepsilon}$ = standard deviation of taste shocks"
   ]
  },
  {
   "cell_type": "code",
   "execution_count": 15,
   "metadata": {},
   "outputs": [],
   "source": [
    "# Declare parameters\n",
    "# Preference parameters\n",
    "beta = 0.95\n",
    "sigma = 1.0\n",
    "# Taste shock parameters: AR(1) process: ln(epsilon_{t+1}) = (1 - rho) * mu_eps + rho_eps * ln(epsilon_{t}) + v_t\n",
    "# v_t ~ N(0, sigma_v)\n",
    "size_eps = 4  # number of grid points in epsilon-space\n",
    "mu_eps = 0\n",
    "rho_eps = 0.5\n",
    "sigma_eps = 0.2  # std of eps = sigma_u /  sqrt(1 - rho)\n",
    "sigma_v = sigma_eps * np.sqrt(1 - rho_eps)\n",
    "\n",
    "# Cake growth rate (storage technology)\n",
    "R = 0.95\n",
    "\n",
    "\n",
    "'''\n",
    "------------------------------------------------------------------------\n",
    "Create Grid for State Space    \n",
    "------------------------------------------------------------------------\n",
    "ub_w      = scalar, upper bound of cake grid \n",
    "size_w    = integer, number of grid points in cake state space\n",
    "w_grid    = vector, size_w x 1 vector of cake grid points \n",
    "------------------------------------------------------------------------\n",
    "'''\n",
    "ub_w = 10.0 \n",
    "size_w = 50  # Number of grid points\n",
    "w_grid_rev = np.empty(size_w)\n",
    "for t in range(size_w):\n",
    "    w_grid_rev[t] = (R ** t) * ub_w  # note how construct so don't have to interpolate\n",
    "w_grid = w_grid_rev[::-1]  # order smallest to largest\n",
    " \n",
    "'''\n",
    "Create grid of taste shocks\n",
    "'''\n",
    "import ar1_approx as ar1\n",
    "ln_eps_grid, pi_t = ar1.addacooper(size_eps, mu_eps, rho_eps, sigma_v)\n",
    "eps_grid = np.exp(ln_eps_grid)\n",
    "pi = np.transpose(pi_t)\n",
    "\n",
    "'''\n",
    "------------------------------------------------------------------------\n",
    "Create grid of current utility values    \n",
    "------------------------------------------------------------------------\n",
    "C        = matrix, current consumption (c=w-w')\n",
    "U        = matrix, current period utility value for all possible\n",
    "           choices of w and w' (rows are w, columns w')\n",
    "------------------------------------------------------------------------\n",
    "'''\n",
    "C = np.zeros((size_eps, size_w)) \n",
    "for i in range(size_eps): # loop over epsilon\n",
    "    for j in range(size_w): # loop over w\n",
    "        C[i, j] = eps_grid[i] * w_grid[j]\n",
    "\n",
    "if sigma == 1:\n",
    "    U = np.log(C)\n",
    "else:\n",
    "    U = (C ** (1 - sigma)) / (1 - sigma)"
   ]
  },
  {
   "cell_type": "code",
   "execution_count": 16,
   "metadata": {},
   "outputs": [
    {
     "name": "stdout",
     "output_type": "stream",
     "text": [
      "Value function converged after this many iterations: 3\n"
     ]
    }
   ],
   "source": [
    "'''\n",
    "------------------------------------------------------------------------\n",
    "Value Function Iteration    \n",
    "------------------------------------------------------------------------\n",
    "VFtol       = scalar, tolerance required for value function to converge\n",
    "VFdist      = scalar, distance between last two value functions\n",
    "VFmaxiter   = integer, maximum number of iterations for value function\n",
    "V           = matrix, the value functions at each iteration\n",
    "TV          = matrix, the value function after applying the Bellman operator\n",
    "PF_discrete = matrix, matrix of policy function: eat=1, not eat=0 \n",
    "Vstore      = array, stores V at each iteration \n",
    "VFiter      = integer, current iteration number\n",
    "EV          = scalar, expected value function for a given state\n",
    "U_eat       = matrix, utility from eating cake now\n",
    "Vwait       = matrix, value of waiting to eat the cake\n",
    "VF          = vector, the \"true\" value function\n",
    "------------------------------------------------------------------------\n",
    "'''\n",
    "VFtol = 1e-8 \n",
    "VFdist = 7.0 \n",
    "VFmaxiter = 3000 \n",
    "V = np.zeros((size_eps, size_w)) # initial guess at value function\n",
    "TV = np.zeros((size_eps, size_w))\n",
    "PF_discrete = np.zeros((size_eps, size_w))\n",
    "Vmat = np.zeros((size_w, size_w)) # initialize Vmat matrix\n",
    "Vstore = np.zeros((size_eps, size_w, VFmaxiter)) #initialize Vstore array\n",
    "VFiter = 1 \n",
    "while VFdist > VFtol and VFiter < VFmaxiter:\n",
    "    for i in range(size_eps): # loop over epsilon\n",
    "        for j in range(size_w): # loop over w\n",
    "            EV = 0\n",
    "            for ii in range(size_eps):  # loop over epsilon'\n",
    "                EV += pi[i, ii] * V[ii, max(j - 1, 0)]   # note can move one space because of how we constructed grid\n",
    "            U_eat = U[i, j]\n",
    "            Vwait = beta * EV \n",
    "            TV[i, j] = max(U_eat, Vwait)\n",
    "            PF_discrete[i, j] = U_eat >= Vwait  # = 1 if eat cake\n",
    "            \n",
    "    Vstore[:, :, VFiter] = TV # store value function at each iteration for graphing later \n",
    "    VFdist = (np.absolute(V - TV)).max()  # check distance\n",
    "    V = TV\n",
    "    VFiter += 1 \n",
    "\n",
    "if VFiter < VFmaxiter:\n",
    "    print('Value function converged after this many iterations:', VFiter)\n",
    "else:\n",
    "    print('Value function did not converge')            \n",
    "\n",
    "\n",
    "VF = V # solution to the functional equation"
   ]
  },
  {
   "cell_type": "code",
   "execution_count": 17,
   "metadata": {
    "collapsed": true
   },
   "outputs": [],
   "source": [
    "'''\n",
    "------------------------------------------------------------------------\n",
    "Find threshold policy functions   \n",
    "------------------------------------------------------------------------\n",
    "'''\n",
    "threshold_eps = np.zeros(size_w)\n",
    "for j in range(size_w):\n",
    "    threshold_eps[j] = eps_grid[np.argmax(PF_discrete[:, j],axis=0)]"
   ]
  },
  {
   "cell_type": "code",
   "execution_count": 12,
   "metadata": {},
   "outputs": [
    {
     "data": {
      "text/plain": [
       "<matplotlib.figure.Figure at 0x112c81400>"
      ]
     },
     "metadata": {},
     "output_type": "display_data"
    },
    {
     "data": {
      "image/png": "[encoded data removed]",
      "text/plain": [
       "<matplotlib.figure.Figure at 0x112c813c8>"
      ]
     },
     "metadata": {},
     "output_type": "display_data"
    }
   ],
   "source": [
    "# Plot value function \n",
    "plt.figure()\n",
    "fig, ax = plt.subplots()\n",
    "ax.plot(w_grid[1:], VF[0, 1:], label='$\\epsilon$ = ' + str(eps_grid[0]))\n",
    "ax.plot(w_grid[1:], VF[1, 1:], label='$\\epsilon$ = ' + str(eps_grid[1]))\n",
    "ax.plot(w_grid[1:], VF[2, 1:], label='$\\epsilon$ = ' + str(eps_grid[2]))\n",
    "ax.plot(w_grid[1:], VF[3, 1:], label='$\\epsilon$ = ' + str(eps_grid[3]))\n",
    "# Now add the legend with some customizations.\n",
    "legend = ax.legend(loc='lower right', shadow=False)\n",
    "# Set the fontsize\n",
    "for label in legend.get_texts():\n",
    "    label.set_fontsize('large')\n",
    "for label in legend.get_lines():\n",
    "    label.set_linewidth(1.5)  # the legend line width\n",
    "plt.xlabel('Size of Cake')\n",
    "plt.ylabel('Value Function')\n",
    "plt.title('Value Function - deterministic cake eating')\n",
    "plt.show()"
   ]
  },
  {
   "cell_type": "code",
   "execution_count": 13,
   "metadata": {},
   "outputs": [
    {
     "data": {
      "image/png": "[encoded data removed]",
      "text/plain": [
       "<matplotlib.figure.Figure at 0x1128c00f0>"
      ]
     },
     "metadata": {},
     "output_type": "display_data"
    }
   ],
   "source": [
    "# Plot threshold\n",
    "plt.figure()\n",
    "plt.plot(w_grid[1:], threshold_eps[1:])\n",
    "plt.xlabel('Size of Cake')\n",
    "plt.ylabel('Threshold Shock')\n",
    "plt.title('Decision rule - discrete choice cake-eating')\n",
    "plt.show()"
   ]
  },
  {
   "cell_type": "code",
   "execution_count": null,
   "metadata": {
    "collapsed": true
   },
   "outputs": [],
   "source": []
  }
 ],
 "metadata": {
  "kernelspec": {
   "display_name": "Python 3",
   "language": "python",
   "name": "python3"
  },
  "language_info": {
   "codemirror_mode": {
    "name": "ipython",
    "version": 3
   },
   "file_extension": ".py",
   "mimetype": "text/x-python",
   "name": "python",
   "nbconvert_exporter": "python",
   "pygments_lexer": "ipython3",
   "version": "3.6.3"
  }
 },
 "nbformat": 4,
 "nbformat_minor": 2
}
