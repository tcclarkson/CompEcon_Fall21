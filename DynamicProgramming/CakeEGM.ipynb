{
 "cells": [
  {
   "cell_type": "markdown",
   "metadata": {},
   "source": [
    "#  The Deterministic Cake Eating Problem - Endogenous Grid Method Solution\n",
    "### by [Jason DeBacker](http://jasondebacker.com), November 2021\n",
    "This Jupyter notebook illustrates how to solve the deterministic cake eating problem using Carroll's (2006) endogenous grid method (EGM).\n",
    "\n",
    "## The Problem:\n",
    "\n",
    "$$V(w)=\\max_{c} u(c)+\\beta V(w'), \\forall w\\in[0,\\bar{w}]$$\n",
    "\n",
    "The necessary condition (after applying the envelope theorem) is given by the Euler equation:\n",
    "\n",
    "$$ u'(c) = \\beta u'(c') $$\n",
    "\n",
    "The unknowns in this system are functions: The value function, $V(w)$, and the policy function, $c = \\phi(w)$ (or, equivalently, $w' = p(w)$).\n",
    "\n",
    "## The Solution:\n",
    "\n",
    "We'll solve this problem using policy function iteration with the endogenous grid method.  With this method, we'll use an iterative procedure to converge to a fixed point in function space, the true policy function, $\\phi(w)$, but we'll do some without the use of a minimizer or root-finder.  Another significant difference between EGM and standard PFI is that we'll choose a grid of $w'$ (and not $w$).  \n",
    "\n",
    "The computational algorithm for EGM is as follows:\n",
    "\n",
    "1. Create a discrete grid of the state variable, $w'$\n",
    "2. Make an initial guess at the policy function, $\\phi_{0}(w)$\n",
    "    * This will a function that returns a consumption value for any $w$\n",
    "3. Solve for $c$ for each point on the grid of $w'$ using the Euler equation:\n",
    "$$ c = u^{'-1}\\left(\\beta u'(\\phi_{0}(w'))\\right)$$\n",
    "4. Find the grid of $w$:\n",
    "    $$w = w' + c$$\n",
    "5. Using the grid for $w$, update the guess at the policy function: $\\phi_{1}(w) = K\\phi(w) = c $ (this is the $c$ solved for in step 3).\n",
    "5. Repeat this process:\n",
    "$$\\phi_{i+1} \\ (w) = K\\phi(w) = c$$\n",
    "6. Stop when, $|\\phi_{i+1} \\ (w)-\\phi_{i}(w)|<\\varepsilon$, where $\\varepsilon$ is a small number."
   ]
  },
  {
   "cell_type": "code",
   "execution_count": 1,
   "metadata": {},
   "outputs": [],
   "source": [
    "# Import packages\n",
    "import numpy as np\n",
    "import matplotlib.pyplot as plt\n",
    "import scipy.optimize as opt\n",
    "from scipy import interpolate\n",
    "\n",
    "# to print plots inline\n",
    "%matplotlib inline"
   ]
  },
  {
   "cell_type": "markdown",
   "metadata": {},
   "source": [
    "## Step 1: Set parameters and create grid for state space\n",
    "\n",
    "Parameters:\n",
    "* $\\beta$ = rate of time preference\n",
    "* $\\sigma$ = coefficient of relative risk aversion (if $\\sigma = 1$, $u(c)=log(c)$), parameter describes the curvature of the utility function"
   ]
  },
  {
   "cell_type": "code",
   "execution_count": 2,
   "metadata": {},
   "outputs": [],
   "source": [
    "beta = 0.95\n",
    "sigma = 1.0\n",
    "R = 1\n",
    "\n",
    "'''\n",
    "------------------------------------------------------------------------\n",
    "Create Grid for State Space    \n",
    "------------------------------------------------------------------------\n",
    "lb_w      = scalar, lower bound of cake grid\n",
    "ub_w      = scalar, upper bound of cake grid \n",
    "size_w    = integer, number of grid points in cake state space\n",
    "w_grid    = vector, size_w x 1 vector of cake grid points \n",
    "------------------------------------------------------------------------\n",
    "'''\n",
    "lb_w = 0.4 \n",
    "ub_w = 2.0 \n",
    "size_w = 200  # Number of grid points\n",
    "w_grid = np.linspace(lb_w, ub_w, size_w)"
   ]
  },
  {
   "cell_type": "markdown",
   "metadata": {},
   "source": [
    "## Step 2: Create functions to use in solution"
   ]
  },
  {
   "cell_type": "code",
   "execution_count": 3,
   "metadata": {},
   "outputs": [],
   "source": [
    "def utility_c(C, sigma):\n",
    "    if sigma == 1:\n",
    "        U = np.log(C)\n",
    "    else:\n",
    "        U = (C ** (1 - sigma)) / (1 - sigma)\n",
    "    \n",
    "    return U\n",
    "\n",
    "\n",
    "def u_prime(C, sigma):\n",
    "    try:\n",
    "        # replace 0 and negative consumption with a tiny value\n",
    "        # to impose non-negativity on cons\n",
    "        C[C<=0] = 1e-10 \n",
    "    except TypeError:\n",
    "        if C <= 0:\n",
    "            C = 1e-10\n",
    "    MU = C ** - sigma\n",
    "    \n",
    "    return MU\n",
    "\n",
    "\n",
    "def u_prime_inv(C, sigma):\n",
    "    try:\n",
    "        # replace 0 and negative consumption with a tiny value\n",
    "        # to impose non-negativity on cons\n",
    "        C[C<=0] = 1e-10 \n",
    "    except TypeError:\n",
    "        if C <= 0:\n",
    "            C = 1e-10\n",
    "    MU = C ** (- 1 / sigma)\n",
    "    \n",
    "    return MU\n",
    "    "
   ]
  },
  {
   "cell_type": "code",
   "execution_count": 4,
   "metadata": {},
   "outputs": [],
   "source": [
    "def coleman_egm(phi, w_prime_grid, params):\n",
    "    '''\n",
    "    The Coleman-Endogenous Grid Method operator, which takes an\n",
    "    existing guess phi of the optimal consumption policy and computes and\n",
    "    returns the updated function Kphi on the endogenous grid points.\n",
    "    '''\n",
    "    beta, sigma = params\n",
    "    \n",
    "    # == Initialize c == #\n",
    "    c = np.empty_like(w_prime_grid)\n",
    "\n",
    "    # == solve for updated consumption value == #\n",
    "    for i, w_prime in enumerate(w_prime_grid):\n",
    "        c[i] = u_prime_inv(beta * u_prime(phi(w_prime), sigma), sigma)\n",
    "    \n",
    "    # == Determine endogenous grid == #\n",
    "    w_grid = w_prime_grid / R + c\n",
    "    \n",
    "    # == Update policy function == #\n",
    "    Kphi = interpolate.interp1d(w_grid, c, kind='linear', fill_value='extrapolate')\n",
    "    return Kphi"
   ]
  },
  {
   "cell_type": "markdown",
   "metadata": {},
   "source": [
    "## Step 3: Policy Function Iteration with EGM"
   ]
  },
  {
   "cell_type": "code",
   "execution_count": 5,
   "metadata": {},
   "outputs": [
    {
     "name": "stdout",
     "output_type": "stream",
     "text": [
      "Iteration  2  distance =  0.9743589743589745\n",
      "Iteration  3  distance =  0.3245016741949255\n",
      "Iteration  4  distance =  0.16203762968997615\n",
      "Iteration  5  distance =  0.09705232549890097\n",
      "Iteration  6  distance =  0.06456000857509103\n",
      "Iteration  7  distance =  0.045993320368892865\n",
      "Iteration  8  distance =  0.03438950085411352\n",
      "Iteration  9  distance =  0.026653989424644364\n",
      "Iteration  10  distance =  0.02123950516538356\n",
      "Iteration  11  distance =  0.01730207604366693\n",
      "Iteration  12  distance =  0.014349384407746107\n",
      "Iteration  13  distance =  0.012078464911237013\n",
      "Iteration  14  distance =  0.010294553477433466\n",
      "Iteration  15  distance =  0.008867806749025903\n",
      "Iteration  16  distance =  0.007708956780645204\n",
      "Iteration  17  distance =  0.006754990271824884\n",
      "Iteration  18  distance =  0.005960396989169253\n",
      "Iteration  19  distance =  0.005291642456028645\n",
      "Iteration  20  distance =  0.00472357520273442\n",
      "Iteration  21  distance =  0.004237031601985658\n",
      "Iteration  22  distance =  0.0038172028039138717\n",
      "Iteration  23  distance =  0.0034524986926961765\n",
      "Iteration  24  distance =  0.003133743190884053\n",
      "Iteration  25  distance =  0.002853594880181526\n",
      "Iteration  26  distance =  0.0026061236105333896\n",
      "Iteration  27  distance =  0.0023864968787546403\n",
      "Iteration  28  distance =  0.002190744613959794\n",
      "Iteration  29  distance =  0.0020155807403100245\n",
      "Iteration  30  distance =  0.0018582663764325769\n",
      "Iteration  31  distance =  0.0017165039265370774\n",
      "Iteration  32  distance =  0.0015883543402695904\n",
      "Iteration  33  distance =  0.0014721719246051368\n",
      "Iteration  34  distance =  0.0013665525778482623\n",
      "Iteration  35  distance =  0.0012702923777909297\n",
      "Iteration  36  distance =  0.0011823542230601641\n",
      "Iteration  37  distance =  0.0011018407863835344\n",
      "Iteration  38  distance =  0.0010279724509018318\n",
      "Iteration  39  distance =  0.0009600692073212097\n",
      "Iteration  40  distance =  0.0008975357196927963\n",
      "Iteration  41  distance =  0.0008398489415047811\n",
      "Iteration  42  distance =  0.0007865477962710893\n",
      "Iteration  43  distance =  0.0007372245384785758\n",
      "Iteration  44  distance =  0.0006915174893321746\n",
      "Iteration  45  distance =  0.0006491049028476137\n",
      "Iteration  46  distance =  0.0006096997656683811\n",
      "Iteration  47  distance =  0.0005730453716374512\n",
      "Iteration  48  distance =  0.0005389115419600909\n",
      "Iteration  49  distance =  0.0005070913855194231\n",
      "Iteration  50  distance =  0.0004773985128864455\n",
      "Iteration  51  distance =  0.0004496646328235737\n",
      "Iteration  52  distance =  0.00042373747240744\n",
      "Iteration  53  distance =  0.0003994789718924363\n",
      "Iteration  54  distance =  0.00037676371358642824\n",
      "Iteration  55  distance =  0.0003554775506750263\n",
      "Iteration  56  distance =  0.00033551640740732414\n",
      "Iteration  57  distance =  0.00031678522656980457\n",
      "Iteration  58  distance =  0.00029919704391401236\n",
      "Iteration  59  distance =  0.0002826721723041964\n",
      "Iteration  60  distance =  0.0002671374809406768\n",
      "Iteration  61  distance =  0.0002525257571732581\n",
      "Iteration  62  distance =  0.00023877514023527835\n",
      "Iteration  63  distance =  0.00022582861775385932\n",
      "Iteration  64  distance =  0.00021363357717685272\n",
      "Iteration  65  distance =  0.00020214140535088077\n",
      "Iteration  66  distance =  0.00019130713040278746\n",
      "Iteration  67  distance =  0.00018108910086939156\n",
      "Iteration  68  distance =  0.00017144869768508098\n",
      "Iteration  69  distance =  0.00016235007521470113\n",
      "Iteration  70  distance =  0.00015375992800747973\n",
      "Iteration  71  distance =  0.000145647280371336\n",
      "Iteration  72  distance =  0.00013798329622993766\n",
      "Iteration  73  distance =  0.00013074110703803488\n",
      "Iteration  74  distance =  0.00012389565580321615\n",
      "Iteration  75  distance =  0.00011742355549498873\n",
      "Iteration  76  distance =  0.00011130296032796361\n",
      "Iteration  77  distance =  0.0001055134485828807\n",
      "Iteration  78  distance =  0.00010003591578353066\n",
      "Iteration  79  distance =  9.485247718238332e-05\n",
      "Iteration  80  distance =  8.994637862833055e-05\n",
      "Iteration  81  distance =  8.530191498798412e-05\n",
      "Iteration  82  distance =  8.090435539091778e-05\n",
      "Iteration  83  distance =  7.673987464097698e-05\n",
      "Iteration  84  distance =  7.279549021103893e-05\n",
      "Iteration  85  distance =  6.905900429968193e-05\n",
      "Iteration  86  distance =  6.551895048224898e-05\n",
      "Iteration  87  distance =  6.216454453773779e-05\n",
      "Iteration  88  distance =  5.8985639075359586e-05\n",
      "Iteration  89  distance =  5.597268162391145e-05\n",
      "Iteration  90  distance =  5.3116675880024444e-05\n",
      "Iteration  91  distance =  5.040914584060474e-05\n",
      "Iteration  92  distance =  4.7842102574011114e-05\n",
      "Iteration  93  distance =  4.540801340587042e-05\n",
      "Iteration  94  distance =  4.30997733184002e-05\n",
      "Iteration  95  distance =  4.091067838062068e-05\n",
      "Iteration  96  distance =  3.8834401043408295e-05\n",
      "Iteration  97  distance =  3.6864967150287975e-05\n",
      "Iteration  98  distance =  3.499673452643515e-05\n",
      "Iteration  99  distance =  3.322437302268055e-05\n",
      "Iteration  100  distance =  3.154284590049794e-05\n",
      "Iteration  101  distance =  2.99473924561533e-05\n",
      "Iteration  102  distance =  2.843351178904996e-05\n",
      "Iteration  103  distance =  2.6996947629198687e-05\n",
      "Iteration  104  distance =  2.5633674144154295e-05\n",
      "Iteration  105  distance =  2.4339882655266543e-05\n",
      "Iteration  106  distance =  2.311196919514702e-05\n",
      "Iteration  107  distance =  2.1946522848592664e-05\n",
      "Iteration  108  distance =  2.0840314818304506e-05\n",
      "Iteration  109  distance =  1.9790288167884085e-05\n",
      "Iteration  110  distance =  1.879354819228629e-05\n",
      "Iteration  111  distance =  1.784735337362342e-05\n",
      "Iteration  112  distance =  1.6949106883656917e-05\n",
      "Iteration  113  distance =  1.609634859396636e-05\n",
      "Iteration  114  distance =  1.5286747561196745e-05\n",
      "Iteration  115  distance =  1.4518094956741945e-05\n",
      "Iteration  116  distance =  1.3788297409625394e-05\n",
      "Iteration  117  distance =  1.3095370738153145e-05\n",
      "Iteration  118  distance =  1.2437434043624518e-05\n",
      "Iteration  119  distance =  1.1812704144242847e-05\n",
      "Iteration  120  distance =  1.1219490326799808e-05\n",
      "Iteration  121  distance =  1.065618939682933e-05\n",
      "Iteration  122  distance =  1.0121281008954042e-05\n",
      "Iteration  123  distance =  9.613323259521911e-06\n",
      "Iteration  124  distance =  9.13094852546259e-06\n",
      "Iteration  125  distance =  8.672859535846511e-06\n",
      "Iteration  126  distance =  8.23782565968767e-06\n",
      "Iteration  127  distance =  7.824679400025847e-06\n",
      "Iteration  128  distance =  7.432313079230868e-06\n",
      "Iteration  129  distance =  7.059675706452828e-06\n",
      "Iteration  130  distance =  6.705770014978074e-06\n",
      "Iteration  131  distance =  6.369649661219778e-06\n",
      "Iteration  132  distance =  6.050416574296391e-06\n",
      "Iteration  133  distance =  5.747218448454161e-06\n",
      "Iteration  134  distance =  5.4592463707425765e-06\n",
      "Iteration  135  distance =  5.185732574866653e-06\n",
      "Iteration  136  distance =  4.9259483152347405e-06\n",
      "Iteration  137  distance =  4.679201853929893e-06\n",
      "Iteration  138  distance =  4.444836554609588e-06\n",
      "Iteration  139  distance =  4.222229076519812e-06\n",
      "Iteration  140  distance =  4.010787665195692e-06\n",
      "Iteration  141  distance =  3.8099505309946435e-06\n",
      "Iteration  142  distance =  3.6191843149763203e-06\n",
      "Iteration  143  distance =  3.4379826333724717e-06\n",
      "Iteration  144  distance =  3.265864698787091e-06\n",
      "Iteration  145  distance =  3.10237401356106e-06\n",
      "Iteration  146  distance =  2.947077130610598e-06\n",
      "Iteration  147  distance =  2.799562478797424e-06\n",
      "Iteration  148  distance =  2.659439249291795e-06\n",
      "Iteration  149  distance =  2.52633633951449e-06\n",
      "Iteration  150  distance =  2.3999013515907386e-06\n",
      "Iteration  151  distance =  2.2797996424017697e-06\n",
      "Iteration  152  distance =  2.165713422735971e-06\n",
      "Iteration  153  distance =  2.05734090291676e-06\n",
      "Iteration  154  distance =  1.9543954817013987e-06\n",
      "Iteration  155  distance =  1.8566049773127702e-06\n",
      "Iteration  156  distance =  1.7637108979395855e-06\n",
      "Iteration  157  distance =  1.6754677490543601e-06\n",
      "Iteration  158  distance =  1.5916423765915955e-06\n",
      "Iteration  159  distance =  1.5120133435436722e-06\n",
      "Iteration  160  distance =  1.4363703382397341e-06\n",
      "Iteration  161  distance =  1.3645136127532487e-06\n",
      "Iteration  162  distance =  1.2962534503696554e-06\n",
      "Iteration  163  distance =  1.2314096591858892e-06\n",
      "Iteration  164  distance =  1.1698110927299554e-06\n",
      "Iteration  165  distance =  1.1112951936315119e-06\n",
      "Iteration  166  distance =  1.055707561328778e-06\n",
      "Iteration  167  distance =  1.0029015413276499e-06\n",
      "Iteration  168  distance =  9.527378355828064e-07\n",
      "Iteration  169  distance =  9.050841317803648e-07\n",
      "Iteration  170  distance =  8.598147528543487e-07\n",
      "Iteration  171  distance =  8.168103224764911e-07\n",
      "Iteration  172  distance =  7.75957448989617e-07\n",
      "Iteration  173  distance =  7.371484242041371e-07\n",
      "Iteration  174  distance =  7.0028093832053e-07\n"
     ]
    },
    {
     "name": "stdout",
     "output_type": "stream",
     "text": [
      "Iteration  175  distance =  6.652578081467464e-07\n",
      "Iteration  176  distance =  6.319867204146457e-07\n",
      "Iteration  177  distance =  6.003799862541737e-07\n",
      "Iteration  178  distance =  5.703543104057518e-07\n",
      "Iteration  179  distance =  5.41830569300572e-07\n",
      "Iteration  180  distance =  5.147336028799021e-07\n",
      "Iteration  181  distance =  4.889920150602522e-07\n",
      "Iteration  182  distance =  4.645379851758724e-07\n",
      "Iteration  183  distance =  4.4130708873324487e-07\n",
      "Iteration  184  distance =  4.1923812675592753e-07\n",
      "Iteration  185  distance =  3.982729648160932e-07\n",
      "Iteration  186  distance =  3.783563783665844e-07\n",
      "Iteration  187  distance =  3.594359077319087e-07\n",
      "Iteration  188  distance =  3.414617191915825e-07\n",
      "Iteration  189  distance =  3.2438647343258076e-07\n",
      "Iteration  190  distance =  3.081652005937352e-07\n",
      "Iteration  191  distance =  2.927551814302376e-07\n",
      "Iteration  192  distance =  2.781158347925361e-07\n",
      "Iteration  193  distance =  2.642086101983798e-07\n",
      "Iteration  194  distance =  2.5099688658047903e-07\n",
      "Iteration  195  distance =  2.384458753362795e-07\n",
      "Iteration  196  distance =  2.2652252831822928e-07\n",
      "Iteration  197  distance =  2.1519545137516083e-07\n",
      "Iteration  198  distance =  2.044348209606639e-07\n",
      "Iteration  199  distance =  1.942123057235845e-07\n",
      "Iteration  200  distance =  1.8450099176225976e-07\n",
      "Iteration  201  distance =  1.7527531152861098e-07\n",
      "Iteration  202  distance =  1.6651097689557304e-07\n",
      "Iteration  203  distance =  1.581849144866032e-07\n",
      "Iteration  204  distance =  1.5027520515464854e-07\n",
      "Iteration  205  distance =  1.4276102665300439e-07\n",
      "Iteration  206  distance =  1.356225976939518e-07\n",
      "Iteration  207  distance =  1.2884112708666517e-07\n",
      "Iteration  208  distance =  1.223987632914536e-07\n",
      "Iteration  209  distance =  1.1627854755447142e-07\n",
      "Iteration  210  distance =  1.1046436969308626e-07\n",
      "Iteration  211  distance =  1.0494092525514809e-07\n",
      "Iteration  212  distance =  9.969367491258208e-08\n",
      "Iteration  213  distance =  9.470880707462825e-08\n",
      "Iteration  214  distance =  8.997320058434788e-08\n",
      "Iteration  215  distance =  8.547439052375427e-08\n",
      "Iteration  216  distance =  8.1200535698156e-08\n",
      "Iteration  217  distance =  7.714038675887824e-08\n",
      "Iteration  218  distance =  7.328325719868634e-08\n",
      "Iteration  219  distance =  6.961899480517619e-08\n",
      "Iteration  220  distance =  6.613795533461087e-08\n",
      "Iteration  221  distance =  6.283097649106839e-08\n",
      "Iteration  222  distance =  5.968935458400271e-08\n",
      "Iteration  223  distance =  5.670482082498207e-08\n",
      "Iteration  224  distance =  5.386952021957381e-08\n",
      "Iteration  225  distance =  5.1175990486984624e-08\n",
      "Iteration  226  distance =  4.861714239523529e-08\n",
      "Iteration  227  distance =  4.618624153962525e-08\n",
      "Iteration  228  distance =  4.387688992690819e-08\n",
      "Iteration  229  distance =  4.1683009752158107e-08\n",
      "Iteration  230  distance =  3.959882712012419e-08\n",
      "Iteration  231  distance =  3.7618856668641953e-08\n",
      "Iteration  232  distance =  3.573788764921204e-08\n",
      "Iteration  233  distance =  3.3950969619001015e-08\n",
      "Iteration  234  distance =  3.225339975654329e-08\n",
      "Iteration  235  distance =  3.064071051050998e-08\n",
      "Iteration  236  distance =  2.910865760930026e-08\n",
      "Iteration  237  distance =  2.7653209014322222e-08\n",
      "Iteration  238  distance =  2.6270534442263127e-08\n",
      "Iteration  239  distance =  2.495699491511516e-08\n",
      "Iteration  240  distance =  2.3709133586957698e-08\n",
      "Iteration  241  distance =  2.252366647359505e-08\n",
      "Iteration  242  distance =  2.1397473792816868e-08\n",
      "Iteration  243  distance =  2.0327591609969886e-08\n",
      "Iteration  244  distance =  1.9311204357830292e-08\n",
      "Iteration  245  distance =  1.8345637231576006e-08\n",
      "Iteration  246  distance =  1.742834913887048e-08\n",
      "Iteration  247  distance =  1.6556926094035695e-08\n",
      "Iteration  248  distance =  1.5729074653858532e-08\n",
      "Iteration  249  distance =  1.4942616338720072e-08\n",
      "Iteration  250  distance =  1.419548145698002e-08\n",
      "Iteration  251  distance =  1.3485703553861583e-08\n",
      "Iteration  252  distance =  1.281141506770389e-08\n",
      "Iteration  253  distance =  1.2170841265368715e-08\n",
      "Iteration  254  distance =  1.1562296453604404e-08\n",
      "Iteration  255  distance =  1.0984179191209087e-08\n",
      "Iteration  256  distance =  1.0434967959160879e-08\n",
      "Iteration  257  distance =  9.91321755239305e-09\n",
      "Policy function converged after this many iterations: 257\n"
     ]
    }
   ],
   "source": [
    "'''\n",
    "------------------------------------------------------------------------\n",
    "Policy Function Iteration with Endogenous Grid Method\n",
    "------------------------------------------------------------------------\n",
    "PFtol     = scalar, tolerance required for policy function to converge\n",
    "PFdist    = scalar, distance between last two policy functions\n",
    "PFmaxiter = integer, maximum number of iterations for policy function\n",
    "phi       = function, policy function for choice of consumption at each iteration\n",
    "PFstore   = matrix, stores phi at each iteration \n",
    "PFiter    = integer, current iteration number\n",
    "PF_params = tuple, contains parameters to pass into Coleman operator: beta, sigma\n",
    "new_phi   = vector, updated policy function after applying Coleman operator \n",
    "------------------------------------------------------------------------\n",
    "'''\n",
    "PFtol = 1e-8 \n",
    "PFdist = 7.0 \n",
    "PFmaxiter = 500 \n",
    "phi = lambda x:  x # initial guess at policy function is to eat all cake\n",
    "PFstore = np.zeros((size_w, PFmaxiter)) #initialize PFstore array\n",
    "PFiter = 1 \n",
    "PF_params = (beta, sigma)\n",
    "while PFdist > PFtol and PFiter < PFmaxiter:\n",
    "    PFstore[:, PFiter] = phi(w_grid)\n",
    "    new_phi = coleman_egm(phi, w_grid, PF_params)\n",
    "    PFdist = (np.absolute(phi(w_grid) - new_phi(w_grid))).max()\n",
    "    phi = new_phi\n",
    "    PFiter += 1\n",
    "    print('Iteration ', PFiter, ' distance = ', PFdist)\n",
    "\n",
    "if PFiter < PFmaxiter:\n",
    "    print('Policy function converged after this many iterations:', PFiter)\n",
    "else:\n",
    "    print('Policy function did not converge')   "
   ]
  },
  {
   "cell_type": "markdown",
   "metadata": {},
   "source": [
    "## Step 4: Extract decision rules from solution"
   ]
  },
  {
   "cell_type": "code",
   "execution_count": 11,
   "metadata": {},
   "outputs": [],
   "source": [
    "'''\n",
    "------------------------------------------------------------------------\n",
    "Find savings policy function and value function   \n",
    "------------------------------------------------------------------------\n",
    "optC  = vector, the optimal choice of c for each c\n",
    "optW  = vector, the optimal choice of w' for each w\n",
    "VF    = vector, the \"true\" value function\n",
    "------------------------------------------------------------------------\n",
    "'''\n",
    "optC = phi(w_grid) # optimal consumption\n",
    "optW = R * (w_grid - optC) # solution to the savings policy function from transition equation"
   ]
  },
  {
   "cell_type": "markdown",
   "metadata": {},
   "source": [
    "## Visualize output"
   ]
  },
  {
   "cell_type": "code",
   "execution_count": 12,
   "metadata": {},
   "outputs": [
    {
     "data": {
      "text/plain": [
       "<Figure size 432x288 with 0 Axes>"
      ]
     },
     "metadata": {},
     "output_type": "display_data"
    },
    {
     "data": {
      "image/png": "[encoded data removed]",
      "text/plain": [
       "<Figure size 432x288 with 1 Axes>"
      ]
     },
     "metadata": {
      "needs_background": "light"
     },
     "output_type": "display_data"
    }
   ],
   "source": [
    "#Plot optimal consumption rule as a function of cake size\n",
    "plt.figure()\n",
    "fig, ax = plt.subplots()\n",
    "ax.plot(w_grid[1:], optC[1:], label='Consumption')\n",
    "# Now add the legend with some customizations.\n",
    "legend = ax.legend(loc='upper left', shadow=False)\n",
    "# Set the fontsize\n",
    "for label in legend.get_texts():\n",
    "    label.set_fontsize('large')\n",
    "for label in legend.get_lines():\n",
    "    label.set_linewidth(1.5)  # the legend line width\n",
    "plt.xlabel('Size of Cake')\n",
    "plt.ylabel('Optimal Consumption')\n",
    "plt.title('Policy Function, consumption - deterministic cake eating')\n",
    "plt.show()"
   ]
  },
  {
   "cell_type": "code",
   "execution_count": 13,
   "metadata": {},
   "outputs": [
    {
     "data": {
      "text/plain": [
       "<Figure size 432x288 with 0 Axes>"
      ]
     },
     "metadata": {},
     "output_type": "display_data"
    },
    {
     "data": {
      "image/png": "[encoded data removed]",
      "text/plain": [
       "<Figure size 432x288 with 1 Axes>"
      ]
     },
     "metadata": {
      "needs_background": "light"
     },
     "output_type": "display_data"
    }
   ],
   "source": [
    "#Plot cake to leave rule as a function of cake size\n",
    "plt.figure()\n",
    "fig, ax = plt.subplots()\n",
    "ax.plot(w_grid[1:], optW[1:], label='Savings')\n",
    "ax.plot(w_grid[1:], w_grid[1:], '--', label='45 degree line')\n",
    "# Now add the legend with some customizations.\n",
    "legend = ax.legend(loc='upper left', shadow=False)\n",
    "# Set the fontsize\n",
    "for label in legend.get_texts():\n",
    "    label.set_fontsize('large')\n",
    "for label in legend.get_lines():\n",
    "    label.set_linewidth(1.5)  # the legend line width\n",
    "plt.xlabel('Size of Cake')\n",
    "plt.ylabel('Optimal Savings')\n",
    "plt.title('Policy Function, savings - deterministic cake eating')\n",
    "plt.show()"
   ]
  },
  {
   "cell_type": "markdown",
   "metadata": {
    "collapsed": true
   },
   "source": [
    "## Finding approximation errors\n",
    "\n",
    "It's a little complicated (we need to do the guess and verify method), but we can show that with $\\sigma = 1.0$ (i.e., $u(c) = log(c)$), then the policy function is $w' = \\beta w$.  Knowing this, we can find the approximation error from our solution method (VFI over a discrete grid).  This errors are found as:"
   ]
  },
  {
   "cell_type": "code",
   "execution_count": 14,
   "metadata": {},
   "outputs": [
    {
     "data": {
      "image/png": "[encoded data removed]",
      "text/plain": [
       "<Figure size 432x288 with 1 Axes>"
      ]
     },
     "metadata": {
      "needs_background": "light"
     },
     "output_type": "display_data"
    }
   ],
   "source": [
    "Wprime_errors = optW - beta * w_grid\n",
    "\n",
    "# Plot policy function approximation errors\n",
    "plt.figure()\n",
    "plt.plot(w_grid[1:], Wprime_errors[1:])\n",
    "plt.xlabel('Size of Cake')\n",
    "plt.ylabel('Error')\n",
    "plt.title('EGM w prime policy function errors')\n",
    "plt.show()"
   ]
  },
  {
   "cell_type": "code",
   "execution_count": 15,
   "metadata": {},
   "outputs": [
    {
     "data": {
      "image/png": "[encoded data removed]",
      "text/plain": [
       "<Figure size 432x288 with 1 Axes>"
      ]
     },
     "metadata": {
      "needs_background": "light"
     },
     "output_type": "display_data"
    }
   ],
   "source": [
    "C_errors = optC - (1 - beta) * w_grid\n",
    "# Plot policy function approximation errors\n",
    "plt.figure()\n",
    "plt.plot(w_grid[1:], C_errors[1:])\n",
    "plt.xlabel('Size of Cake')\n",
    "plt.ylabel('Error')\n",
    "plt.title('EGM consumption policy function errors')\n",
    "plt.show()"
   ]
  },
  {
   "cell_type": "code",
   "execution_count": null,
   "metadata": {},
   "outputs": [],
   "source": []
  },
  {
   "cell_type": "code",
   "execution_count": null,
   "metadata": {},
   "outputs": [],
   "source": []
  }
 ],
 "metadata": {
  "kernelspec": {
   "display_name": "Python 3 (ipykernel)",
   "language": "python",
   "name": "python3"
  },
  "language_info": {
   "codemirror_mode": {
    "name": "ipython",
    "version": 3
   },
   "file_extension": ".py",
   "mimetype": "text/x-python",
   "name": "python",
   "nbconvert_exporter": "python",
   "pygments_lexer": "ipython3",
   "version": "3.7.7"
  }
 },
 "nbformat": 4,
 "nbformat_minor": 2
}
